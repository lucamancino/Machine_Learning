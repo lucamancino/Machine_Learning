{
 "cells": [
  {
   "cell_type": "markdown",
   "metadata": {},
   "source": [
    "# Binary Classification and Propensity Notebook "
   ]
  },
  {
   "cell_type": "markdown",
   "metadata": {},
   "source": [
    "Equipped with the historical data, we should set out on the task to identify the customers with the highest propensity (an inclination) to buy a specific product. When dealing with this kind of problems, we should look at some questions of business factors influencing a propensity to buy the specific product:  \n",
    "\n",
    "- Would age be a factor?\n",
    "- Is there any relationship between employment status and the propensity to buy the product (e.g. term deposits)?\n",
    "- Would the asset portfolio of a customer influence the propensity to buy?\n",
    "- Will demographics such as marital status and education influence the propensity to buy term deposits? "
   ]
  },
  {
   "cell_type": "code",
   "execution_count": 1,
   "metadata": {},
   "outputs": [],
   "source": [
    "# Global variables\n",
    "delta=0.00001 # used to \"correct\" zero values coming from the MinMaxScaler normalisation procedure"
   ]
  },
  {
   "cell_type": "markdown",
   "metadata": {},
   "source": [
    "### Dataset from S. Moro, P. Cortez, and P. Rita: A Data-Driven approach to predict the success of bank telemarketing"
   ]
  },
  {
   "cell_type": "code",
   "execution_count": 2,
   "metadata": {},
   "outputs": [],
   "source": [
    "import pandas as pd"
   ]
  },
  {
   "cell_type": "code",
   "execution_count": 3,
   "metadata": {},
   "outputs": [
    {
     "name": "stdout",
     "output_type": "stream",
     "text": [
      "The shape of the DataSet is: (45211, 17)\n"
     ]
    }
   ],
   "source": [
    "file_url='https://raw.githubusercontent.com/PacktWorkshops'\\\n",
    "         '/The-Data-Science-Workshop/master/Chapter03'\\\n",
    "         '/bank-full.csv'\n",
    "\n",
    "# Loading the data using Pandas\n",
    "bankData=pd.read_csv(file_url, sep=';')\n",
    "bankData_2=pd.read_csv(file_url, sep=';')\n",
    "# Dropna removes NaN values from the DataSet\n",
    "bankData_cleaned=bankData.dropna()\n",
    "\n",
    "# Printing the shape of the DataSet\n",
    "print('The shape of the DataSet is:', bankData.shape)"
   ]
  },
  {
   "cell_type": "code",
   "execution_count": 4,
   "metadata": {},
   "outputs": [
    {
     "data": {
      "text/html": [
       "<div>\n",
       "<style scoped>\n",
       "    .dataframe tbody tr th:only-of-type {\n",
       "        vertical-align: middle;\n",
       "    }\n",
       "\n",
       "    .dataframe tbody tr th {\n",
       "        vertical-align: top;\n",
       "    }\n",
       "\n",
       "    .dataframe thead th {\n",
       "        text-align: right;\n",
       "    }\n",
       "</style>\n",
       "<table border=\"1\" class=\"dataframe\">\n",
       "  <thead>\n",
       "    <tr style=\"text-align: right;\">\n",
       "      <th></th>\n",
       "      <th>age</th>\n",
       "      <th>balance</th>\n",
       "      <th>day</th>\n",
       "      <th>duration</th>\n",
       "      <th>campaign</th>\n",
       "      <th>pdays</th>\n",
       "      <th>previous</th>\n",
       "    </tr>\n",
       "  </thead>\n",
       "  <tbody>\n",
       "    <tr>\n",
       "      <th>mean</th>\n",
       "      <td>40.936210</td>\n",
       "      <td>1362.272058</td>\n",
       "      <td>15.806419</td>\n",
       "      <td>258.163080</td>\n",
       "      <td>2.763841</td>\n",
       "      <td>40.197828</td>\n",
       "      <td>0.580323</td>\n",
       "    </tr>\n",
       "    <tr>\n",
       "      <th>std</th>\n",
       "      <td>10.618762</td>\n",
       "      <td>3044.765829</td>\n",
       "      <td>8.322476</td>\n",
       "      <td>257.527812</td>\n",
       "      <td>3.098021</td>\n",
       "      <td>100.128746</td>\n",
       "      <td>2.303441</td>\n",
       "    </tr>\n",
       "  </tbody>\n",
       "</table>\n",
       "</div>"
      ],
      "text/plain": [
       "            age      balance        day    duration  campaign       pdays  \\\n",
       "mean  40.936210  1362.272058  15.806419  258.163080  2.763841   40.197828   \n",
       "std   10.618762  3044.765829   8.322476  257.527812  3.098021  100.128746   \n",
       "\n",
       "      previous  \n",
       "mean  0.580323  \n",
       "std   2.303441  "
      ]
     },
     "execution_count": 4,
     "metadata": {},
     "output_type": "execute_result"
    }
   ],
   "source": [
    "# Summarising the statistics of the numerical raw Data (only for Numerical Data)\n",
    "bankData.describe()[1:3]"
   ]
  },
  {
   "cell_type": "markdown",
   "metadata": {},
   "source": [
    "## Exploratory Data Analysis (EDA): evolving some hypotheses about the relationship of these business drivers and the business outcome"
   ]
  },
  {
   "cell_type": "code",
   "execution_count": 5,
   "metadata": {},
   "outputs": [],
   "source": [
    "# Importing library files\n",
    "import numpy as np \n",
    "import altair as alt\n",
    "import matplotlib as mpl\n",
    "import matplotlib.pyplot as plt"
   ]
  },
  {
   "cell_type": "code",
   "execution_count": 6,
   "metadata": {},
   "outputs": [
    {
     "data": {
      "text/html": [
       "<div>\n",
       "<style scoped>\n",
       "    .dataframe tbody tr th:only-of-type {\n",
       "        vertical-align: middle;\n",
       "    }\n",
       "\n",
       "    .dataframe tbody tr th {\n",
       "        vertical-align: top;\n",
       "    }\n",
       "\n",
       "    .dataframe thead th {\n",
       "        text-align: right;\n",
       "    }\n",
       "</style>\n",
       "<table border=\"1\" class=\"dataframe\">\n",
       "  <thead>\n",
       "    <tr style=\"text-align: right;\">\n",
       "      <th></th>\n",
       "      <th>age</th>\n",
       "      <th>agegrp</th>\n",
       "    </tr>\n",
       "  </thead>\n",
       "  <tbody>\n",
       "    <tr>\n",
       "      <th>0</th>\n",
       "      <td>18</td>\n",
       "      <td>7</td>\n",
       "    </tr>\n",
       "    <tr>\n",
       "      <th>1</th>\n",
       "      <td>19</td>\n",
       "      <td>11</td>\n",
       "    </tr>\n",
       "    <tr>\n",
       "      <th>2</th>\n",
       "      <td>20</td>\n",
       "      <td>15</td>\n",
       "    </tr>\n",
       "    <tr>\n",
       "      <th>3</th>\n",
       "      <td>21</td>\n",
       "      <td>22</td>\n",
       "    </tr>\n",
       "    <tr>\n",
       "      <th>4</th>\n",
       "      <td>22</td>\n",
       "      <td>40</td>\n",
       "    </tr>\n",
       "  </tbody>\n",
       "</table>\n",
       "</div>"
      ],
      "text/plain": [
       "   age  agegrp\n",
       "0   18       7\n",
       "1   19      11\n",
       "2   20      15\n",
       "3   21      22\n",
       "4   22      40"
      ]
     },
     "execution_count": 6,
     "metadata": {},
     "output_type": "execute_result"
    }
   ],
   "source": [
    "# HYPOTHESIS: The propensity to buy deposits is more with elderly customers compared to younger ones.\n",
    "\n",
    "filter_mask=bankData['y']=='yes' # 'y' means -> the customer bought a term deposit\n",
    "\n",
    "# Here, we use a GroupBy on the bankData DataSet: .agg is the aggregative function used to realise a SQL Distribution. 'Agegrp' is the number of the aggregated column. \n",
    "bankSub1=bankData[filter_mask].groupby('age')['y'].agg(agegrp='count').reset_index()\n",
    "bankSub1.head()"
   ]
  },
  {
   "cell_type": "code",
   "execution_count": 7,
   "metadata": {},
   "outputs": [
    {
     "data": {
      "text/html": [
       "\n",
       "<div id=\"altair-viz-02ffac679eeb4365966a8909cdc5db7d\"></div>\n",
       "<script type=\"text/javascript\">\n",
       "  (function(spec, embedOpt){\n",
       "    let outputDiv = document.currentScript.previousElementSibling;\n",
       "    if (outputDiv.id !== \"altair-viz-02ffac679eeb4365966a8909cdc5db7d\") {\n",
       "      outputDiv = document.getElementById(\"altair-viz-02ffac679eeb4365966a8909cdc5db7d\");\n",
       "    }\n",
       "    const paths = {\n",
       "      \"vega\": \"https://cdn.jsdelivr.net/npm//vega@5?noext\",\n",
       "      \"vega-lib\": \"https://cdn.jsdelivr.net/npm//vega-lib?noext\",\n",
       "      \"vega-lite\": \"https://cdn.jsdelivr.net/npm//vega-lite@4.8.1?noext\",\n",
       "      \"vega-embed\": \"https://cdn.jsdelivr.net/npm//vega-embed@6?noext\",\n",
       "    };\n",
       "\n",
       "    function loadScript(lib) {\n",
       "      return new Promise(function(resolve, reject) {\n",
       "        var s = document.createElement('script');\n",
       "        s.src = paths[lib];\n",
       "        s.async = true;\n",
       "        s.onload = () => resolve(paths[lib]);\n",
       "        s.onerror = () => reject(`Error loading script: ${paths[lib]}`);\n",
       "        document.getElementsByTagName(\"head\")[0].appendChild(s);\n",
       "      });\n",
       "    }\n",
       "\n",
       "    function showError(err) {\n",
       "      outputDiv.innerHTML = `<div class=\"error\" style=\"color:red;\">${err}</div>`;\n",
       "      throw err;\n",
       "    }\n",
       "\n",
       "    function displayChart(vegaEmbed) {\n",
       "      vegaEmbed(outputDiv, spec, embedOpt)\n",
       "        .catch(err => showError(`Javascript Error: ${err.message}<br>This usually means there's a typo in your chart specification. See the javascript console for the full traceback.`));\n",
       "    }\n",
       "\n",
       "    if(typeof define === \"function\" && define.amd) {\n",
       "      requirejs.config({paths});\n",
       "      require([\"vega-embed\"], displayChart, err => showError(`Error loading script: ${err.message}`));\n",
       "    } else if (typeof vegaEmbed === \"function\") {\n",
       "      displayChart(vegaEmbed);\n",
       "    } else {\n",
       "      loadScript(\"vega\")\n",
       "        .then(() => loadScript(\"vega-lite\"))\n",
       "        .then(() => loadScript(\"vega-embed\"))\n",
       "        .catch(showError)\n",
       "        .then(() => displayChart(vegaEmbed));\n",
       "    }\n",
       "  })({\"config\": {\"view\": {\"continuousWidth\": 400, \"continuousHeight\": 300}}, \"data\": {\"name\": \"data-6ffef09df38b640058f0f70d394258ab\"}, \"mark\": \"line\", \"encoding\": {\"x\": {\"type\": \"quantitative\", \"field\": \"age\"}, \"y\": {\"type\": \"quantitative\", \"field\": \"agegrp\"}}, \"$schema\": \"https://vega.github.io/schema/vega-lite/v4.8.1.json\", \"datasets\": {\"data-6ffef09df38b640058f0f70d394258ab\": [{\"age\": 18, \"agegrp\": 7}, {\"age\": 19, \"agegrp\": 11}, {\"age\": 20, \"agegrp\": 15}, {\"age\": 21, \"agegrp\": 22}, {\"age\": 22, \"agegrp\": 40}, {\"age\": 23, \"agegrp\": 44}, {\"age\": 24, \"agegrp\": 68}, {\"age\": 25, \"agegrp\": 113}, {\"age\": 26, \"agegrp\": 134}, {\"age\": 27, \"agegrp\": 141}, {\"age\": 28, \"agegrp\": 162}, {\"age\": 29, \"agegrp\": 171}, {\"age\": 30, \"agegrp\": 217}, {\"age\": 31, \"agegrp\": 206}, {\"age\": 32, \"agegrp\": 221}, {\"age\": 33, \"agegrp\": 210}, {\"age\": 34, \"agegrp\": 198}, {\"age\": 35, \"agegrp\": 209}, {\"age\": 36, \"agegrp\": 195}, {\"age\": 37, \"agegrp\": 170}, {\"age\": 38, \"agegrp\": 144}, {\"age\": 39, \"agegrp\": 143}, {\"age\": 40, \"agegrp\": 116}, {\"age\": 41, \"agegrp\": 120}, {\"age\": 42, \"agegrp\": 111}, {\"age\": 43, \"agegrp\": 103}, {\"age\": 44, \"agegrp\": 93}, {\"age\": 45, \"agegrp\": 106}, {\"age\": 46, \"agegrp\": 118}, {\"age\": 47, \"agegrp\": 113}, {\"age\": 48, \"agegrp\": 82}, {\"age\": 49, \"agegrp\": 101}, {\"age\": 50, \"agegrp\": 72}, {\"age\": 51, \"agegrp\": 77}, {\"age\": 52, \"agegrp\": 85}, {\"age\": 53, \"agegrp\": 85}, {\"age\": 54, \"agegrp\": 84}, {\"age\": 55, \"agegrp\": 76}, {\"age\": 56, \"agegrp\": 68}, {\"age\": 57, \"agegrp\": 78}, {\"age\": 58, \"agegrp\": 72}, {\"age\": 59, \"agegrp\": 88}, {\"age\": 60, \"agegrp\": 98}, {\"age\": 61, \"agegrp\": 57}, {\"age\": 62, \"agegrp\": 39}, {\"age\": 63, \"agegrp\": 30}, {\"age\": 64, \"agegrp\": 35}, {\"age\": 65, \"agegrp\": 21}, {\"age\": 66, \"agegrp\": 24}, {\"age\": 67, \"agegrp\": 23}, {\"age\": 68, \"agegrp\": 21}, {\"age\": 69, \"agegrp\": 17}, {\"age\": 70, \"agegrp\": 17}, {\"age\": 71, \"agegrp\": 25}, {\"age\": 72, \"agegrp\": 24}, {\"age\": 73, \"agegrp\": 24}, {\"age\": 74, \"agegrp\": 13}, {\"age\": 75, \"agegrp\": 15}, {\"age\": 76, \"agegrp\": 16}, {\"age\": 77, \"agegrp\": 22}, {\"age\": 78, \"agegrp\": 14}, {\"age\": 79, \"agegrp\": 10}, {\"age\": 80, \"agegrp\": 12}, {\"age\": 81, \"agegrp\": 6}, {\"age\": 82, \"agegrp\": 8}, {\"age\": 83, \"agegrp\": 6}, {\"age\": 84, \"agegrp\": 5}, {\"age\": 85, \"agegrp\": 4}, {\"age\": 86, \"agegrp\": 4}, {\"age\": 87, \"agegrp\": 3}, {\"age\": 90, \"agegrp\": 2}, {\"age\": 92, \"agegrp\": 2}, {\"age\": 93, \"agegrp\": 2}, {\"age\": 95, \"agegrp\": 1}]}}, {\"mode\": \"vega-lite\"});\n",
       "</script>"
      ],
      "text/plain": [
       "alt.Chart(...)"
      ]
     },
     "execution_count": 7,
     "metadata": {},
     "output_type": "execute_result"
    }
   ],
   "source": [
    "# Visualising the relationship between 'age' and how many of them actually bought a term deposit. This is the absolute counting of customers!\n",
    "alt.Chart(bankSub1).mark_line().encode(x='age', y='agegrp')"
   ]
  },
  {
   "cell_type": "code",
   "execution_count": 8,
   "metadata": {},
   "outputs": [],
   "source": [
    "# The previous output seems to be counterintuitive: what we should plot is the proportion of customers, within each age group, who buy a term deposit (in the previous output, we plotted\n",
    "# the absolute counting of customers). \n",
    "\n",
    "# Before applying the filtering mask, we perform a .groupby on the DataSet age to define the 'ageProp' DataSet\n",
    "ageProp=bankData.groupby(['age','y'])['y'].agg(ageTotYN='count').reset_index()\n",
    "# DataSet containing the customers grouped by age\n",
    "agePropY=bankData.groupby('age')['y'].agg(ageTot='count').reset_index()"
   ]
  },
  {
   "cell_type": "code",
   "execution_count": 9,
   "metadata": {},
   "outputs": [],
   "source": [
    "# LEFT JOIN of the two DataSets: ageProp and agePropY are joined on the 'age' feature.\n",
    "ageComb=pd.merge(ageProp,agePropY,left_on=['age'],right_on=['age'])\n",
    "\n",
    "# Here we build the catProp feature representing a way to visually represent the percentage of customers buying/not buying the deposit term\n",
    "ageComb['catProp']=round((ageComb.ageTotYN/ageComb.ageTot)*100,2)"
   ]
  },
  {
   "cell_type": "code",
   "execution_count": 10,
   "metadata": {},
   "outputs": [
    {
     "data": {
      "text/html": [
       "\n",
       "<div id=\"altair-viz-54c10cd748aa423a84da73957aafd14e\"></div>\n",
       "<script type=\"text/javascript\">\n",
       "  (function(spec, embedOpt){\n",
       "    let outputDiv = document.currentScript.previousElementSibling;\n",
       "    if (outputDiv.id !== \"altair-viz-54c10cd748aa423a84da73957aafd14e\") {\n",
       "      outputDiv = document.getElementById(\"altair-viz-54c10cd748aa423a84da73957aafd14e\");\n",
       "    }\n",
       "    const paths = {\n",
       "      \"vega\": \"https://cdn.jsdelivr.net/npm//vega@5?noext\",\n",
       "      \"vega-lib\": \"https://cdn.jsdelivr.net/npm//vega-lib?noext\",\n",
       "      \"vega-lite\": \"https://cdn.jsdelivr.net/npm//vega-lite@4.8.1?noext\",\n",
       "      \"vega-embed\": \"https://cdn.jsdelivr.net/npm//vega-embed@6?noext\",\n",
       "    };\n",
       "\n",
       "    function loadScript(lib) {\n",
       "      return new Promise(function(resolve, reject) {\n",
       "        var s = document.createElement('script');\n",
       "        s.src = paths[lib];\n",
       "        s.async = true;\n",
       "        s.onload = () => resolve(paths[lib]);\n",
       "        s.onerror = () => reject(`Error loading script: ${paths[lib]}`);\n",
       "        document.getElementsByTagName(\"head\")[0].appendChild(s);\n",
       "      });\n",
       "    }\n",
       "\n",
       "    function showError(err) {\n",
       "      outputDiv.innerHTML = `<div class=\"error\" style=\"color:red;\">${err}</div>`;\n",
       "      throw err;\n",
       "    }\n",
       "\n",
       "    function displayChart(vegaEmbed) {\n",
       "      vegaEmbed(outputDiv, spec, embedOpt)\n",
       "        .catch(err => showError(`Javascript Error: ${err.message}<br>This usually means there's a typo in your chart specification. See the javascript console for the full traceback.`));\n",
       "    }\n",
       "\n",
       "    if(typeof define === \"function\" && define.amd) {\n",
       "      requirejs.config({paths});\n",
       "      require([\"vega-embed\"], displayChart, err => showError(`Error loading script: ${err.message}`));\n",
       "    } else if (typeof vegaEmbed === \"function\") {\n",
       "      displayChart(vegaEmbed);\n",
       "    } else {\n",
       "      loadScript(\"vega\")\n",
       "        .then(() => loadScript(\"vega-lite\"))\n",
       "        .then(() => loadScript(\"vega-embed\"))\n",
       "        .catch(showError)\n",
       "        .then(() => displayChart(vegaEmbed));\n",
       "    }\n",
       "  })({\"config\": {\"view\": {\"continuousWidth\": 400, \"continuousHeight\": 300}}, \"data\": {\"name\": \"data-a3d7a2c2e38ce9572dd87f0355a036bd\"}, \"facet\": {\"column\": {\"type\": \"nominal\", \"field\": \"y\"}}, \"spec\": {\"mark\": \"line\", \"encoding\": {\"x\": {\"type\": \"quantitative\", \"field\": \"age\"}, \"y\": {\"type\": \"quantitative\", \"field\": \"catProp\"}}}, \"$schema\": \"https://vega.github.io/schema/vega-lite/v4.8.1.json\", \"datasets\": {\"data-a3d7a2c2e38ce9572dd87f0355a036bd\": [{\"age\": 18, \"y\": \"no\", \"ageTotYN\": 5, \"ageTot\": 12, \"catProp\": 41.67}, {\"age\": 18, \"y\": \"yes\", \"ageTotYN\": 7, \"ageTot\": 12, \"catProp\": 58.33}, {\"age\": 19, \"y\": \"no\", \"ageTotYN\": 24, \"ageTot\": 35, \"catProp\": 68.57}, {\"age\": 19, \"y\": \"yes\", \"ageTotYN\": 11, \"ageTot\": 35, \"catProp\": 31.43}, {\"age\": 20, \"y\": \"no\", \"ageTotYN\": 35, \"ageTot\": 50, \"catProp\": 70.0}, {\"age\": 20, \"y\": \"yes\", \"ageTotYN\": 15, \"ageTot\": 50, \"catProp\": 30.0}, {\"age\": 21, \"y\": \"no\", \"ageTotYN\": 57, \"ageTot\": 79, \"catProp\": 72.15}, {\"age\": 21, \"y\": \"yes\", \"ageTotYN\": 22, \"ageTot\": 79, \"catProp\": 27.85}, {\"age\": 22, \"y\": \"no\", \"ageTotYN\": 89, \"ageTot\": 129, \"catProp\": 68.99}, {\"age\": 22, \"y\": \"yes\", \"ageTotYN\": 40, \"ageTot\": 129, \"catProp\": 31.01}, {\"age\": 23, \"y\": \"no\", \"ageTotYN\": 158, \"ageTot\": 202, \"catProp\": 78.22}, {\"age\": 23, \"y\": \"yes\", \"ageTotYN\": 44, \"ageTot\": 202, \"catProp\": 21.78}, {\"age\": 24, \"y\": \"no\", \"ageTotYN\": 234, \"ageTot\": 302, \"catProp\": 77.48}, {\"age\": 24, \"y\": \"yes\", \"ageTotYN\": 68, \"ageTot\": 302, \"catProp\": 22.52}, {\"age\": 25, \"y\": \"no\", \"ageTotYN\": 414, \"ageTot\": 527, \"catProp\": 78.56}, {\"age\": 25, \"y\": \"yes\", \"ageTotYN\": 113, \"ageTot\": 527, \"catProp\": 21.44}, {\"age\": 26, \"y\": \"no\", \"ageTotYN\": 671, \"ageTot\": 805, \"catProp\": 83.35}, {\"age\": 26, \"y\": \"yes\", \"ageTotYN\": 134, \"ageTot\": 805, \"catProp\": 16.65}, {\"age\": 27, \"y\": \"no\", \"ageTotYN\": 768, \"ageTot\": 909, \"catProp\": 84.49}, {\"age\": 27, \"y\": \"yes\", \"ageTotYN\": 141, \"ageTot\": 909, \"catProp\": 15.51}, {\"age\": 28, \"y\": \"no\", \"ageTotYN\": 876, \"ageTot\": 1038, \"catProp\": 84.39}, {\"age\": 28, \"y\": \"yes\", \"ageTotYN\": 162, \"ageTot\": 1038, \"catProp\": 15.61}, {\"age\": 29, \"y\": \"no\", \"ageTotYN\": 1014, \"ageTot\": 1185, \"catProp\": 85.57}, {\"age\": 29, \"y\": \"yes\", \"ageTotYN\": 171, \"ageTot\": 1185, \"catProp\": 14.43}, {\"age\": 30, \"y\": \"no\", \"ageTotYN\": 1540, \"ageTot\": 1757, \"catProp\": 87.65}, {\"age\": 30, \"y\": \"yes\", \"ageTotYN\": 217, \"ageTot\": 1757, \"catProp\": 12.35}, {\"age\": 31, \"y\": \"no\", \"ageTotYN\": 1790, \"ageTot\": 1996, \"catProp\": 89.68}, {\"age\": 31, \"y\": \"yes\", \"ageTotYN\": 206, \"ageTot\": 1996, \"catProp\": 10.32}, {\"age\": 32, \"y\": \"no\", \"ageTotYN\": 1864, \"ageTot\": 2085, \"catProp\": 89.4}, {\"age\": 32, \"y\": \"yes\", \"ageTotYN\": 221, \"ageTot\": 2085, \"catProp\": 10.6}, {\"age\": 33, \"y\": \"no\", \"ageTotYN\": 1762, \"ageTot\": 1972, \"catProp\": 89.35}, {\"age\": 33, \"y\": \"yes\", \"ageTotYN\": 210, \"ageTot\": 1972, \"catProp\": 10.65}, {\"age\": 34, \"y\": \"no\", \"ageTotYN\": 1732, \"ageTot\": 1930, \"catProp\": 89.74}, {\"age\": 34, \"y\": \"yes\", \"ageTotYN\": 198, \"ageTot\": 1930, \"catProp\": 10.26}, {\"age\": 35, \"y\": \"no\", \"ageTotYN\": 1685, \"ageTot\": 1894, \"catProp\": 88.97}, {\"age\": 35, \"y\": \"yes\", \"ageTotYN\": 209, \"ageTot\": 1894, \"catProp\": 11.03}, {\"age\": 36, \"y\": \"no\", \"ageTotYN\": 1611, \"ageTot\": 1806, \"catProp\": 89.2}, {\"age\": 36, \"y\": \"yes\", \"ageTotYN\": 195, \"ageTot\": 1806, \"catProp\": 10.8}, {\"age\": 37, \"y\": \"no\", \"ageTotYN\": 1526, \"ageTot\": 1696, \"catProp\": 89.98}, {\"age\": 37, \"y\": \"yes\", \"ageTotYN\": 170, \"ageTot\": 1696, \"catProp\": 10.02}, {\"age\": 38, \"y\": \"no\", \"ageTotYN\": 1322, \"ageTot\": 1466, \"catProp\": 90.18}, {\"age\": 38, \"y\": \"yes\", \"ageTotYN\": 144, \"ageTot\": 1466, \"catProp\": 9.82}, {\"age\": 39, \"y\": \"no\", \"ageTotYN\": 1344, \"ageTot\": 1487, \"catProp\": 90.38}, {\"age\": 39, \"y\": \"yes\", \"ageTotYN\": 143, \"ageTot\": 1487, \"catProp\": 9.62}, {\"age\": 40, \"y\": \"no\", \"ageTotYN\": 1239, \"ageTot\": 1355, \"catProp\": 91.44}, {\"age\": 40, \"y\": \"yes\", \"ageTotYN\": 116, \"ageTot\": 1355, \"catProp\": 8.56}, {\"age\": 41, \"y\": \"no\", \"ageTotYN\": 1171, \"ageTot\": 1291, \"catProp\": 90.7}, {\"age\": 41, \"y\": \"yes\", \"ageTotYN\": 120, \"ageTot\": 1291, \"catProp\": 9.3}, {\"age\": 42, \"y\": \"no\", \"ageTotYN\": 1131, \"ageTot\": 1242, \"catProp\": 91.06}, {\"age\": 42, \"y\": \"yes\", \"ageTotYN\": 111, \"ageTot\": 1242, \"catProp\": 8.94}, {\"age\": 43, \"y\": \"no\", \"ageTotYN\": 1058, \"ageTot\": 1161, \"catProp\": 91.13}, {\"age\": 43, \"y\": \"yes\", \"ageTotYN\": 103, \"ageTot\": 1161, \"catProp\": 8.87}, {\"age\": 44, \"y\": \"no\", \"ageTotYN\": 1043, \"ageTot\": 1136, \"catProp\": 91.81}, {\"age\": 44, \"y\": \"yes\", \"ageTotYN\": 93, \"ageTot\": 1136, \"catProp\": 8.19}, {\"age\": 45, \"y\": \"no\", \"ageTotYN\": 1110, \"ageTot\": 1216, \"catProp\": 91.28}, {\"age\": 45, \"y\": \"yes\", \"ageTotYN\": 106, \"ageTot\": 1216, \"catProp\": 8.72}, {\"age\": 46, \"y\": \"no\", \"ageTotYN\": 1057, \"ageTot\": 1175, \"catProp\": 89.96}, {\"age\": 46, \"y\": \"yes\", \"ageTotYN\": 118, \"ageTot\": 1175, \"catProp\": 10.04}, {\"age\": 47, \"y\": \"no\", \"ageTotYN\": 975, \"ageTot\": 1088, \"catProp\": 89.61}, {\"age\": 47, \"y\": \"yes\", \"ageTotYN\": 113, \"ageTot\": 1088, \"catProp\": 10.39}, {\"age\": 48, \"y\": \"no\", \"ageTotYN\": 915, \"ageTot\": 997, \"catProp\": 91.78}, {\"age\": 48, \"y\": \"yes\", \"ageTotYN\": 82, \"ageTot\": 997, \"catProp\": 8.22}, {\"age\": 49, \"y\": \"no\", \"ageTotYN\": 893, \"ageTot\": 994, \"catProp\": 89.84}, {\"age\": 49, \"y\": \"yes\", \"ageTotYN\": 101, \"ageTot\": 994, \"catProp\": 10.16}, {\"age\": 50, \"y\": \"no\", \"ageTotYN\": 867, \"ageTot\": 939, \"catProp\": 92.33}, {\"age\": 50, \"y\": \"yes\", \"ageTotYN\": 72, \"ageTot\": 939, \"catProp\": 7.67}, {\"age\": 51, \"y\": \"no\", \"ageTotYN\": 859, \"ageTot\": 936, \"catProp\": 91.77}, {\"age\": 51, \"y\": \"yes\", \"ageTotYN\": 77, \"ageTot\": 936, \"catProp\": 8.23}, {\"age\": 52, \"y\": \"no\", \"ageTotYN\": 826, \"ageTot\": 911, \"catProp\": 90.67}, {\"age\": 52, \"y\": \"yes\", \"ageTotYN\": 85, \"ageTot\": 911, \"catProp\": 9.33}, {\"age\": 53, \"y\": \"no\", \"ageTotYN\": 806, \"ageTot\": 891, \"catProp\": 90.46}, {\"age\": 53, \"y\": \"yes\", \"ageTotYN\": 85, \"ageTot\": 891, \"catProp\": 9.54}, {\"age\": 54, \"y\": \"no\", \"ageTotYN\": 727, \"ageTot\": 811, \"catProp\": 89.64}, {\"age\": 54, \"y\": \"yes\", \"ageTotYN\": 84, \"ageTot\": 811, \"catProp\": 10.36}, {\"age\": 55, \"y\": \"no\", \"ageTotYN\": 730, \"ageTot\": 806, \"catProp\": 90.57}, {\"age\": 55, \"y\": \"yes\", \"ageTotYN\": 76, \"ageTot\": 806, \"catProp\": 9.43}, {\"age\": 56, \"y\": \"no\", \"ageTotYN\": 710, \"ageTot\": 778, \"catProp\": 91.26}, {\"age\": 56, \"y\": \"yes\", \"ageTotYN\": 68, \"ageTot\": 778, \"catProp\": 8.74}, {\"age\": 57, \"y\": \"no\", \"ageTotYN\": 750, \"ageTot\": 828, \"catProp\": 90.58}, {\"age\": 57, \"y\": \"yes\", \"ageTotYN\": 78, \"ageTot\": 828, \"catProp\": 9.42}, {\"age\": 58, \"y\": \"no\", \"ageTotYN\": 668, \"ageTot\": 740, \"catProp\": 90.27}, {\"age\": 58, \"y\": \"yes\", \"ageTotYN\": 72, \"ageTot\": 740, \"catProp\": 9.73}, {\"age\": 59, \"y\": \"no\", \"ageTotYN\": 682, \"ageTot\": 770, \"catProp\": 88.57}, {\"age\": 59, \"y\": \"yes\", \"ageTotYN\": 88, \"ageTot\": 770, \"catProp\": 11.43}, {\"age\": 60, \"y\": \"no\", \"ageTotYN\": 498, \"ageTot\": 596, \"catProp\": 83.56}, {\"age\": 60, \"y\": \"yes\", \"ageTotYN\": 98, \"ageTot\": 596, \"catProp\": 16.44}, {\"age\": 61, \"y\": \"no\", \"ageTotYN\": 90, \"ageTot\": 147, \"catProp\": 61.22}, {\"age\": 61, \"y\": \"yes\", \"ageTotYN\": 57, \"ageTot\": 147, \"catProp\": 38.78}, {\"age\": 62, \"y\": \"no\", \"ageTotYN\": 41, \"ageTot\": 80, \"catProp\": 51.25}, {\"age\": 62, \"y\": \"yes\", \"ageTotYN\": 39, \"ageTot\": 80, \"catProp\": 48.75}, {\"age\": 63, \"y\": \"no\", \"ageTotYN\": 47, \"ageTot\": 77, \"catProp\": 61.04}, {\"age\": 63, \"y\": \"yes\", \"ageTotYN\": 30, \"ageTot\": 77, \"catProp\": 38.96}, {\"age\": 64, \"y\": \"no\", \"ageTotYN\": 39, \"ageTot\": 74, \"catProp\": 52.7}, {\"age\": 64, \"y\": \"yes\", \"ageTotYN\": 35, \"ageTot\": 74, \"catProp\": 47.3}, {\"age\": 65, \"y\": \"no\", \"ageTotYN\": 38, \"ageTot\": 59, \"catProp\": 64.41}, {\"age\": 65, \"y\": \"yes\", \"ageTotYN\": 21, \"ageTot\": 59, \"catProp\": 35.59}, {\"age\": 66, \"y\": \"no\", \"ageTotYN\": 39, \"ageTot\": 63, \"catProp\": 61.9}, {\"age\": 66, \"y\": \"yes\", \"ageTotYN\": 24, \"ageTot\": 63, \"catProp\": 38.1}, {\"age\": 67, \"y\": \"no\", \"ageTotYN\": 31, \"ageTot\": 54, \"catProp\": 57.41}, {\"age\": 67, \"y\": \"yes\", \"ageTotYN\": 23, \"ageTot\": 54, \"catProp\": 42.59}, {\"age\": 68, \"y\": \"no\", \"ageTotYN\": 15, \"ageTot\": 36, \"catProp\": 41.67}, {\"age\": 68, \"y\": \"yes\", \"ageTotYN\": 21, \"ageTot\": 36, \"catProp\": 58.33}, {\"age\": 69, \"y\": \"no\", \"ageTotYN\": 27, \"ageTot\": 44, \"catProp\": 61.36}, {\"age\": 69, \"y\": \"yes\", \"ageTotYN\": 17, \"ageTot\": 44, \"catProp\": 38.64}, {\"age\": 70, \"y\": \"no\", \"ageTotYN\": 50, \"ageTot\": 67, \"catProp\": 74.63}, {\"age\": 70, \"y\": \"yes\", \"ageTotYN\": 17, \"ageTot\": 67, \"catProp\": 25.37}, {\"age\": 71, \"y\": \"no\", \"ageTotYN\": 29, \"ageTot\": 54, \"catProp\": 53.7}, {\"age\": 71, \"y\": \"yes\", \"ageTotYN\": 25, \"ageTot\": 54, \"catProp\": 46.3}, {\"age\": 72, \"y\": \"no\", \"ageTotYN\": 28, \"ageTot\": 52, \"catProp\": 53.85}, {\"age\": 72, \"y\": \"yes\", \"ageTotYN\": 24, \"ageTot\": 52, \"catProp\": 46.15}, {\"age\": 73, \"y\": \"no\", \"ageTotYN\": 20, \"ageTot\": 44, \"catProp\": 45.45}, {\"age\": 73, \"y\": \"yes\", \"ageTotYN\": 24, \"ageTot\": 44, \"catProp\": 54.55}, {\"age\": 74, \"y\": \"no\", \"ageTotYN\": 24, \"ageTot\": 37, \"catProp\": 64.86}, {\"age\": 74, \"y\": \"yes\", \"ageTotYN\": 13, \"ageTot\": 37, \"catProp\": 35.14}, {\"age\": 75, \"y\": \"no\", \"ageTotYN\": 24, \"ageTot\": 39, \"catProp\": 61.54}, {\"age\": 75, \"y\": \"yes\", \"ageTotYN\": 15, \"ageTot\": 39, \"catProp\": 38.46}, {\"age\": 76, \"y\": \"no\", \"ageTotYN\": 16, \"ageTot\": 32, \"catProp\": 50.0}, {\"age\": 76, \"y\": \"yes\", \"ageTotYN\": 16, \"ageTot\": 32, \"catProp\": 50.0}, {\"age\": 77, \"y\": \"no\", \"ageTotYN\": 22, \"ageTot\": 44, \"catProp\": 50.0}, {\"age\": 77, \"y\": \"yes\", \"ageTotYN\": 22, \"ageTot\": 44, \"catProp\": 50.0}, {\"age\": 78, \"y\": \"no\", \"ageTotYN\": 16, \"ageTot\": 30, \"catProp\": 53.33}, {\"age\": 78, \"y\": \"yes\", \"ageTotYN\": 14, \"ageTot\": 30, \"catProp\": 46.67}, {\"age\": 79, \"y\": \"no\", \"ageTotYN\": 15, \"ageTot\": 25, \"catProp\": 60.0}, {\"age\": 79, \"y\": \"yes\", \"ageTotYN\": 10, \"ageTot\": 25, \"catProp\": 40.0}, {\"age\": 80, \"y\": \"no\", \"ageTotYN\": 19, \"ageTot\": 31, \"catProp\": 61.29}, {\"age\": 80, \"y\": \"yes\", \"ageTotYN\": 12, \"ageTot\": 31, \"catProp\": 38.71}, {\"age\": 81, \"y\": \"no\", \"ageTotYN\": 11, \"ageTot\": 17, \"catProp\": 64.71}, {\"age\": 81, \"y\": \"yes\", \"ageTotYN\": 6, \"ageTot\": 17, \"catProp\": 35.29}, {\"age\": 82, \"y\": \"no\", \"ageTotYN\": 11, \"ageTot\": 19, \"catProp\": 57.89}, {\"age\": 82, \"y\": \"yes\", \"ageTotYN\": 8, \"ageTot\": 19, \"catProp\": 42.11}, {\"age\": 83, \"y\": \"no\", \"ageTotYN\": 16, \"ageTot\": 22, \"catProp\": 72.73}, {\"age\": 83, \"y\": \"yes\", \"ageTotYN\": 6, \"ageTot\": 22, \"catProp\": 27.27}, {\"age\": 84, \"y\": \"no\", \"ageTotYN\": 4, \"ageTot\": 9, \"catProp\": 44.44}, {\"age\": 84, \"y\": \"yes\", \"ageTotYN\": 5, \"ageTot\": 9, \"catProp\": 55.56}, {\"age\": 85, \"y\": \"no\", \"ageTotYN\": 1, \"ageTot\": 5, \"catProp\": 20.0}, {\"age\": 85, \"y\": \"yes\", \"ageTotYN\": 4, \"ageTot\": 5, \"catProp\": 80.0}, {\"age\": 86, \"y\": \"no\", \"ageTotYN\": 5, \"ageTot\": 9, \"catProp\": 55.56}, {\"age\": 86, \"y\": \"yes\", \"ageTotYN\": 4, \"ageTot\": 9, \"catProp\": 44.44}, {\"age\": 87, \"y\": \"no\", \"ageTotYN\": 1, \"ageTot\": 4, \"catProp\": 25.0}, {\"age\": 87, \"y\": \"yes\", \"ageTotYN\": 3, \"ageTot\": 4, \"catProp\": 75.0}, {\"age\": 88, \"y\": \"no\", \"ageTotYN\": 2, \"ageTot\": 2, \"catProp\": 100.0}, {\"age\": 89, \"y\": \"no\", \"ageTotYN\": 3, \"ageTot\": 3, \"catProp\": 100.0}, {\"age\": 90, \"y\": \"yes\", \"ageTotYN\": 2, \"ageTot\": 2, \"catProp\": 100.0}, {\"age\": 92, \"y\": \"yes\", \"ageTotYN\": 2, \"ageTot\": 2, \"catProp\": 100.0}, {\"age\": 93, \"y\": \"yes\", \"ageTotYN\": 2, \"ageTot\": 2, \"catProp\": 100.0}, {\"age\": 94, \"y\": \"no\", \"ageTotYN\": 1, \"ageTot\": 1, \"catProp\": 100.0}, {\"age\": 95, \"y\": \"no\", \"ageTotYN\": 1, \"ageTot\": 2, \"catProp\": 50.0}, {\"age\": 95, \"y\": \"yes\", \"ageTotYN\": 1, \"ageTot\": 2, \"catProp\": 50.0}]}}, {\"mode\": \"vega-lite\"});\n",
       "</script>"
      ],
      "text/plain": [
       "alt.FacetChart(...)"
      ]
     },
     "execution_count": 10,
     "metadata": {},
     "output_type": "execute_result"
    }
   ],
   "source": [
    "# Visualising the relationships with Altair --- OJO: when we see a 'saturation' in the Plot, we cannot do correct considerations\n",
    "alt.Chart(ageComb).mark_line().encode(x='age', y='catProp').facet(column='y')"
   ]
  },
  {
   "cell_type": "code",
   "execution_count": 11,
   "metadata": {},
   "outputs": [
    {
     "data": {
      "text/html": [
       "<div>\n",
       "<style scoped>\n",
       "    .dataframe tbody tr th:only-of-type {\n",
       "        vertical-align: middle;\n",
       "    }\n",
       "\n",
       "    .dataframe tbody tr th {\n",
       "        vertical-align: top;\n",
       "    }\n",
       "\n",
       "    .dataframe thead th {\n",
       "        text-align: right;\n",
       "    }\n",
       "</style>\n",
       "<table border=\"1\" class=\"dataframe\">\n",
       "  <thead>\n",
       "    <tr style=\"text-align: right;\">\n",
       "      <th></th>\n",
       "      <th>job</th>\n",
       "      <th>y</th>\n",
       "      <th>jobgrp</th>\n",
       "      <th>jobgrpTot</th>\n",
       "      <th>jobPerc</th>\n",
       "    </tr>\n",
       "  </thead>\n",
       "  <tbody>\n",
       "    <tr>\n",
       "      <th>0</th>\n",
       "      <td>admin.</td>\n",
       "      <td>no</td>\n",
       "      <td>4540</td>\n",
       "      <td>5171</td>\n",
       "      <td>87.80</td>\n",
       "    </tr>\n",
       "    <tr>\n",
       "      <th>1</th>\n",
       "      <td>admin.</td>\n",
       "      <td>yes</td>\n",
       "      <td>631</td>\n",
       "      <td>5171</td>\n",
       "      <td>12.20</td>\n",
       "    </tr>\n",
       "    <tr>\n",
       "      <th>2</th>\n",
       "      <td>blue-collar</td>\n",
       "      <td>no</td>\n",
       "      <td>9024</td>\n",
       "      <td>9732</td>\n",
       "      <td>92.73</td>\n",
       "    </tr>\n",
       "    <tr>\n",
       "      <th>3</th>\n",
       "      <td>blue-collar</td>\n",
       "      <td>yes</td>\n",
       "      <td>708</td>\n",
       "      <td>9732</td>\n",
       "      <td>7.27</td>\n",
       "    </tr>\n",
       "    <tr>\n",
       "      <th>4</th>\n",
       "      <td>entrepreneur</td>\n",
       "      <td>no</td>\n",
       "      <td>1364</td>\n",
       "      <td>1487</td>\n",
       "      <td>91.73</td>\n",
       "    </tr>\n",
       "  </tbody>\n",
       "</table>\n",
       "</div>"
      ],
      "text/plain": [
       "            job    y  jobgrp  jobgrpTot  jobPerc\n",
       "0        admin.   no    4540       5171    87.80\n",
       "1        admin.  yes     631       5171    12.20\n",
       "2   blue-collar   no    9024       9732    92.73\n",
       "3   blue-collar  yes     708       9732     7.27\n",
       "4  entrepreneur   no    1364       1487    91.73"
      ]
     },
     "execution_count": 11,
     "metadata": {},
     "output_type": "execute_result"
    }
   ],
   "source": [
    "# We try to formulate a hypothesis between employment status and the propensity to buy term deposits. \n",
    "# HYPOTHESIS: High paying employees prefer term deposits than other categories of employees\n",
    "\n",
    "# Performing a groupby only on the Job column\n",
    "jobTot=bankData.groupby('job')['y'].agg(jobgrpTot='count').reset_index()\n",
    "# Performing a groupby on the Job and the Y column\n",
    "jobProp=bankData.groupby(['job','y'])['y'].agg(jobgrp='count').reset_index()\n",
    "\n",
    "# LEFT JOIN on the job column (from both the SubDataSets)\n",
    "jobComb=pd.merge(jobProp,jobTot,left_on='job',right_on='job')\n",
    "\n",
    "# Add a Percentage column\n",
    "jobComb['jobPerc']=round((jobComb.jobgrp/jobComb.jobgrpTot)*100,2)\n",
    "jobComb.head()"
   ]
  },
  {
   "cell_type": "code",
   "execution_count": 12,
   "metadata": {},
   "outputs": [
    {
     "data": {
      "text/html": [
       "\n",
       "<div id=\"altair-viz-dbc27b8ca0294f709f3547d8d3c3d37b\"></div>\n",
       "<script type=\"text/javascript\">\n",
       "  (function(spec, embedOpt){\n",
       "    let outputDiv = document.currentScript.previousElementSibling;\n",
       "    if (outputDiv.id !== \"altair-viz-dbc27b8ca0294f709f3547d8d3c3d37b\") {\n",
       "      outputDiv = document.getElementById(\"altair-viz-dbc27b8ca0294f709f3547d8d3c3d37b\");\n",
       "    }\n",
       "    const paths = {\n",
       "      \"vega\": \"https://cdn.jsdelivr.net/npm//vega@5?noext\",\n",
       "      \"vega-lib\": \"https://cdn.jsdelivr.net/npm//vega-lib?noext\",\n",
       "      \"vega-lite\": \"https://cdn.jsdelivr.net/npm//vega-lite@4.8.1?noext\",\n",
       "      \"vega-embed\": \"https://cdn.jsdelivr.net/npm//vega-embed@6?noext\",\n",
       "    };\n",
       "\n",
       "    function loadScript(lib) {\n",
       "      return new Promise(function(resolve, reject) {\n",
       "        var s = document.createElement('script');\n",
       "        s.src = paths[lib];\n",
       "        s.async = true;\n",
       "        s.onload = () => resolve(paths[lib]);\n",
       "        s.onerror = () => reject(`Error loading script: ${paths[lib]}`);\n",
       "        document.getElementsByTagName(\"head\")[0].appendChild(s);\n",
       "      });\n",
       "    }\n",
       "\n",
       "    function showError(err) {\n",
       "      outputDiv.innerHTML = `<div class=\"error\" style=\"color:red;\">${err}</div>`;\n",
       "      throw err;\n",
       "    }\n",
       "\n",
       "    function displayChart(vegaEmbed) {\n",
       "      vegaEmbed(outputDiv, spec, embedOpt)\n",
       "        .catch(err => showError(`Javascript Error: ${err.message}<br>This usually means there's a typo in your chart specification. See the javascript console for the full traceback.`));\n",
       "    }\n",
       "\n",
       "    if(typeof define === \"function\" && define.amd) {\n",
       "      requirejs.config({paths});\n",
       "      require([\"vega-embed\"], displayChart, err => showError(`Error loading script: ${err.message}`));\n",
       "    } else if (typeof vegaEmbed === \"function\") {\n",
       "      displayChart(vegaEmbed);\n",
       "    } else {\n",
       "      loadScript(\"vega\")\n",
       "        .then(() => loadScript(\"vega-lite\"))\n",
       "        .then(() => loadScript(\"vega-embed\"))\n",
       "        .catch(showError)\n",
       "        .then(() => displayChart(vegaEmbed));\n",
       "    }\n",
       "  })({\"config\": {\"view\": {\"continuousWidth\": 400, \"continuousHeight\": 300}}, \"data\": {\"name\": \"data-a8defd955fda41dc586e57154d9637a2\"}, \"facet\": {\"column\": {\"type\": \"nominal\", \"field\": \"y\"}}, \"spec\": {\"mark\": \"bar\", \"encoding\": {\"x\": {\"type\": \"nominal\", \"field\": \"job\"}, \"y\": {\"type\": \"quantitative\", \"field\": \"jobPerc\"}}}, \"$schema\": \"https://vega.github.io/schema/vega-lite/v4.8.1.json\", \"datasets\": {\"data-a8defd955fda41dc586e57154d9637a2\": [{\"job\": \"admin.\", \"y\": \"no\", \"jobgrp\": 4540, \"jobgrpTot\": 5171, \"jobPerc\": 87.8}, {\"job\": \"admin.\", \"y\": \"yes\", \"jobgrp\": 631, \"jobgrpTot\": 5171, \"jobPerc\": 12.2}, {\"job\": \"blue-collar\", \"y\": \"no\", \"jobgrp\": 9024, \"jobgrpTot\": 9732, \"jobPerc\": 92.73}, {\"job\": \"blue-collar\", \"y\": \"yes\", \"jobgrp\": 708, \"jobgrpTot\": 9732, \"jobPerc\": 7.27}, {\"job\": \"entrepreneur\", \"y\": \"no\", \"jobgrp\": 1364, \"jobgrpTot\": 1487, \"jobPerc\": 91.73}, {\"job\": \"entrepreneur\", \"y\": \"yes\", \"jobgrp\": 123, \"jobgrpTot\": 1487, \"jobPerc\": 8.27}, {\"job\": \"housemaid\", \"y\": \"no\", \"jobgrp\": 1131, \"jobgrpTot\": 1240, \"jobPerc\": 91.21}, {\"job\": \"housemaid\", \"y\": \"yes\", \"jobgrp\": 109, \"jobgrpTot\": 1240, \"jobPerc\": 8.79}, {\"job\": \"management\", \"y\": \"no\", \"jobgrp\": 8157, \"jobgrpTot\": 9458, \"jobPerc\": 86.24}, {\"job\": \"management\", \"y\": \"yes\", \"jobgrp\": 1301, \"jobgrpTot\": 9458, \"jobPerc\": 13.76}, {\"job\": \"retired\", \"y\": \"no\", \"jobgrp\": 1748, \"jobgrpTot\": 2264, \"jobPerc\": 77.21}, {\"job\": \"retired\", \"y\": \"yes\", \"jobgrp\": 516, \"jobgrpTot\": 2264, \"jobPerc\": 22.79}, {\"job\": \"self-employed\", \"y\": \"no\", \"jobgrp\": 1392, \"jobgrpTot\": 1579, \"jobPerc\": 88.16}, {\"job\": \"self-employed\", \"y\": \"yes\", \"jobgrp\": 187, \"jobgrpTot\": 1579, \"jobPerc\": 11.84}, {\"job\": \"services\", \"y\": \"no\", \"jobgrp\": 3785, \"jobgrpTot\": 4154, \"jobPerc\": 91.12}, {\"job\": \"services\", \"y\": \"yes\", \"jobgrp\": 369, \"jobgrpTot\": 4154, \"jobPerc\": 8.88}, {\"job\": \"student\", \"y\": \"no\", \"jobgrp\": 669, \"jobgrpTot\": 938, \"jobPerc\": 71.32}, {\"job\": \"student\", \"y\": \"yes\", \"jobgrp\": 269, \"jobgrpTot\": 938, \"jobPerc\": 28.68}, {\"job\": \"technician\", \"y\": \"no\", \"jobgrp\": 6757, \"jobgrpTot\": 7597, \"jobPerc\": 88.94}, {\"job\": \"technician\", \"y\": \"yes\", \"jobgrp\": 840, \"jobgrpTot\": 7597, \"jobPerc\": 11.06}, {\"job\": \"unemployed\", \"y\": \"no\", \"jobgrp\": 1101, \"jobgrpTot\": 1303, \"jobPerc\": 84.5}, {\"job\": \"unemployed\", \"y\": \"yes\", \"jobgrp\": 202, \"jobgrpTot\": 1303, \"jobPerc\": 15.5}, {\"job\": \"unknown\", \"y\": \"no\", \"jobgrp\": 254, \"jobgrpTot\": 288, \"jobPerc\": 88.19}, {\"job\": \"unknown\", \"y\": \"yes\", \"jobgrp\": 34, \"jobgrpTot\": 288, \"jobPerc\": 11.81}]}}, {\"mode\": \"vega-lite\"});\n",
       "</script>"
      ],
      "text/plain": [
       "alt.FacetChart(...)"
      ]
     },
     "execution_count": 12,
     "metadata": {},
     "output_type": "execute_result"
    }
   ],
   "source": [
    "# Visualising the relationships with Altair --- OJO: when we see a 'saturation' in the Plot, we cannot do correct considerations\n",
    "alt.Chart(jobComb).mark_bar().encode(x='job', y='jobPerc').facet(column='y')"
   ]
  },
  {
   "cell_type": "markdown",
   "metadata": {},
   "source": [
    "## Feature Engineering"
   ]
  },
  {
   "cell_type": "markdown",
   "metadata": {},
   "source": [
    "Feature Engineering is the process of transforming raw variables to create new variables and it is one of the most important steps that influence the accuracy of the models that we build. There are two types of Feature Engineering (FE):   \n",
    "\n",
    "- Transform raw variables based on intuitions from a business perspective (Type I);\n",
    "- The transformation of raw variables is done from a statistical and data normalisation perspective (Type II). "
   ]
  },
  {
   "cell_type": "markdown",
   "metadata": {},
   "source": [
    "### Type I FE"
   ]
  },
  {
   "cell_type": "markdown",
   "metadata": {},
   "source": [
    "Transforming data and creating new variables on business factors or drivers that influence a business problem: in this context, we will explore an 'asset portfolio' representing the combination of all assets and liabilities the customer has with the bank. We will combine assets and liabilities such as bank balance, home ownership, and loans to get a new feature called ASSET index. "
   ]
  },
  {
   "cell_type": "markdown",
   "metadata": {},
   "source": [
    "HOW TO?\n",
    "\n",
    "- We give a weight of 5 if the customer has a house and 1 in its absence;\n",
    "- We give a weight of 1 if the customer has a loan and 5 in case of no loans. "
   ]
  },
  {
   "cell_type": "code",
   "execution_count": 13,
   "metadata": {},
   "outputs": [],
   "source": [
    "# Normalising data\n",
    "from sklearn import preprocessing "
   ]
  },
  {
   "cell_type": "code",
   "execution_count": 14,
   "metadata": {},
   "outputs": [],
   "source": [
    "# Getting a Numpy array converting balance into float numbers\n",
    "x=bankData[['balance']].values.astype(float)"
   ]
  },
  {
   "cell_type": "code",
   "execution_count": 15,
   "metadata": {},
   "outputs": [
    {
     "data": {
      "text/html": [
       "<div>\n",
       "<style scoped>\n",
       "    .dataframe tbody tr th:only-of-type {\n",
       "        vertical-align: middle;\n",
       "    }\n",
       "\n",
       "    .dataframe tbody tr th {\n",
       "        vertical-align: top;\n",
       "    }\n",
       "\n",
       "    .dataframe thead th {\n",
       "        text-align: right;\n",
       "    }\n",
       "</style>\n",
       "<table border=\"1\" class=\"dataframe\">\n",
       "  <thead>\n",
       "    <tr style=\"text-align: right;\">\n",
       "      <th></th>\n",
       "      <th>age</th>\n",
       "      <th>job</th>\n",
       "      <th>marital</th>\n",
       "      <th>education</th>\n",
       "      <th>default</th>\n",
       "      <th>balance</th>\n",
       "      <th>housing</th>\n",
       "      <th>loan</th>\n",
       "      <th>contact</th>\n",
       "      <th>day</th>\n",
       "      <th>month</th>\n",
       "      <th>duration</th>\n",
       "      <th>campaign</th>\n",
       "      <th>pdays</th>\n",
       "      <th>previous</th>\n",
       "      <th>poutcome</th>\n",
       "      <th>y</th>\n",
       "      <th>balance_norm</th>\n",
       "    </tr>\n",
       "  </thead>\n",
       "  <tbody>\n",
       "    <tr>\n",
       "      <th>0</th>\n",
       "      <td>58</td>\n",
       "      <td>management</td>\n",
       "      <td>married</td>\n",
       "      <td>tertiary</td>\n",
       "      <td>no</td>\n",
       "      <td>2143</td>\n",
       "      <td>yes</td>\n",
       "      <td>no</td>\n",
       "      <td>unknown</td>\n",
       "      <td>5</td>\n",
       "      <td>may</td>\n",
       "      <td>261</td>\n",
       "      <td>1</td>\n",
       "      <td>-1</td>\n",
       "      <td>0</td>\n",
       "      <td>unknown</td>\n",
       "      <td>no</td>\n",
       "      <td>0.092259</td>\n",
       "    </tr>\n",
       "    <tr>\n",
       "      <th>1</th>\n",
       "      <td>44</td>\n",
       "      <td>technician</td>\n",
       "      <td>single</td>\n",
       "      <td>secondary</td>\n",
       "      <td>no</td>\n",
       "      <td>29</td>\n",
       "      <td>yes</td>\n",
       "      <td>no</td>\n",
       "      <td>unknown</td>\n",
       "      <td>5</td>\n",
       "      <td>may</td>\n",
       "      <td>151</td>\n",
       "      <td>1</td>\n",
       "      <td>-1</td>\n",
       "      <td>0</td>\n",
       "      <td>unknown</td>\n",
       "      <td>no</td>\n",
       "      <td>0.073067</td>\n",
       "    </tr>\n",
       "    <tr>\n",
       "      <th>2</th>\n",
       "      <td>33</td>\n",
       "      <td>entrepreneur</td>\n",
       "      <td>married</td>\n",
       "      <td>secondary</td>\n",
       "      <td>no</td>\n",
       "      <td>2</td>\n",
       "      <td>yes</td>\n",
       "      <td>yes</td>\n",
       "      <td>unknown</td>\n",
       "      <td>5</td>\n",
       "      <td>may</td>\n",
       "      <td>76</td>\n",
       "      <td>1</td>\n",
       "      <td>-1</td>\n",
       "      <td>0</td>\n",
       "      <td>unknown</td>\n",
       "      <td>no</td>\n",
       "      <td>0.072822</td>\n",
       "    </tr>\n",
       "    <tr>\n",
       "      <th>3</th>\n",
       "      <td>47</td>\n",
       "      <td>blue-collar</td>\n",
       "      <td>married</td>\n",
       "      <td>unknown</td>\n",
       "      <td>no</td>\n",
       "      <td>1506</td>\n",
       "      <td>yes</td>\n",
       "      <td>no</td>\n",
       "      <td>unknown</td>\n",
       "      <td>5</td>\n",
       "      <td>may</td>\n",
       "      <td>92</td>\n",
       "      <td>1</td>\n",
       "      <td>-1</td>\n",
       "      <td>0</td>\n",
       "      <td>unknown</td>\n",
       "      <td>no</td>\n",
       "      <td>0.086476</td>\n",
       "    </tr>\n",
       "    <tr>\n",
       "      <th>4</th>\n",
       "      <td>33</td>\n",
       "      <td>unknown</td>\n",
       "      <td>single</td>\n",
       "      <td>unknown</td>\n",
       "      <td>no</td>\n",
       "      <td>1</td>\n",
       "      <td>no</td>\n",
       "      <td>no</td>\n",
       "      <td>unknown</td>\n",
       "      <td>5</td>\n",
       "      <td>may</td>\n",
       "      <td>198</td>\n",
       "      <td>1</td>\n",
       "      <td>-1</td>\n",
       "      <td>0</td>\n",
       "      <td>unknown</td>\n",
       "      <td>no</td>\n",
       "      <td>0.072812</td>\n",
       "    </tr>\n",
       "  </tbody>\n",
       "</table>\n",
       "</div>"
      ],
      "text/plain": [
       "   age           job  marital  education default  balance housing loan  \\\n",
       "0   58    management  married   tertiary      no     2143     yes   no   \n",
       "1   44    technician   single  secondary      no       29     yes   no   \n",
       "2   33  entrepreneur  married  secondary      no        2     yes  yes   \n",
       "3   47   blue-collar  married    unknown      no     1506     yes   no   \n",
       "4   33       unknown   single    unknown      no        1      no   no   \n",
       "\n",
       "   contact  day month  duration  campaign  pdays  previous poutcome   y  \\\n",
       "0  unknown    5   may       261         1     -1         0  unknown  no   \n",
       "1  unknown    5   may       151         1     -1         0  unknown  no   \n",
       "2  unknown    5   may        76         1     -1         0  unknown  no   \n",
       "3  unknown    5   may        92         1     -1         0  unknown  no   \n",
       "4  unknown    5   may       198         1     -1         0  unknown  no   \n",
       "\n",
       "   balance_norm  \n",
       "0      0.092259  \n",
       "1      0.073067  \n",
       "2      0.072822  \n",
       "3      0.086476  \n",
       "4      0.072812  "
      ]
     },
     "execution_count": 15,
     "metadata": {},
     "output_type": "execute_result"
    }
   ],
   "source": [
    "# In order to normalise data, we use MinMaxScaler() from Sklearn -> the purpose of normalisation is to bring all of the variables that we are using to \n",
    "# create the new feature into a common scale. \n",
    "\n",
    "minmaxscaler=preprocessing.MinMaxScaler()\n",
    "bankData['balance_norm']=minmaxscaler.fit_transform(x)\n",
    "bankData.head()"
   ]
  },
  {
   "cell_type": "code",
   "execution_count": 16,
   "metadata": {},
   "outputs": [],
   "source": [
    "# NB. When using MinMaxScaler, df['name_of_the_new_column'].min() is zero. We sum a small \\Delta \\sim 10^-4 to the whole column. \n",
    "\n",
    "bankData['balance_norm']=bankData['balance_norm']+delta "
   ]
  },
  {
   "cell_type": "code",
   "execution_count": 17,
   "metadata": {},
   "outputs": [],
   "source": [
    "# LOAN ENGINEERING\n",
    "\n",
    "# Adding a new column containing WEIGHTS for LOAN\n",
    "bankData['loanTran']=1\n",
    "# Giving a weight of 5 if there is no loan \n",
    "bankData.loc[bankData['loan']=='no','loanTran']=5"
   ]
  },
  {
   "cell_type": "code",
   "execution_count": 18,
   "metadata": {},
   "outputs": [],
   "source": [
    "# HOUSING DATA ENGINEERING\n",
    "\n",
    "# Adding a new column containing WEIGHTS for HOUSING\n",
    "bankData['houseTran']=5\n",
    "# Giving a weight of 1 if the customer has not a House\n",
    "bankData.loc[bankData['housing']=='no','houseTran']=1"
   ]
  },
  {
   "cell_type": "code",
   "execution_count": 19,
   "metadata": {},
   "outputs": [
    {
     "data": {
      "text/html": [
       "<div>\n",
       "<style scoped>\n",
       "    .dataframe tbody tr th:only-of-type {\n",
       "        vertical-align: middle;\n",
       "    }\n",
       "\n",
       "    .dataframe tbody tr th {\n",
       "        vertical-align: top;\n",
       "    }\n",
       "\n",
       "    .dataframe thead th {\n",
       "        text-align: right;\n",
       "    }\n",
       "</style>\n",
       "<table border=\"1\" class=\"dataframe\">\n",
       "  <thead>\n",
       "    <tr style=\"text-align: right;\">\n",
       "      <th></th>\n",
       "      <th>age</th>\n",
       "      <th>job</th>\n",
       "      <th>marital</th>\n",
       "      <th>education</th>\n",
       "      <th>default</th>\n",
       "      <th>balance</th>\n",
       "      <th>housing</th>\n",
       "      <th>loan</th>\n",
       "      <th>contact</th>\n",
       "      <th>day</th>\n",
       "      <th>...</th>\n",
       "      <th>duration</th>\n",
       "      <th>campaign</th>\n",
       "      <th>pdays</th>\n",
       "      <th>previous</th>\n",
       "      <th>poutcome</th>\n",
       "      <th>y</th>\n",
       "      <th>balance_norm</th>\n",
       "      <th>loanTran</th>\n",
       "      <th>houseTran</th>\n",
       "      <th>assetIndex</th>\n",
       "    </tr>\n",
       "  </thead>\n",
       "  <tbody>\n",
       "    <tr>\n",
       "      <th>0</th>\n",
       "      <td>58</td>\n",
       "      <td>management</td>\n",
       "      <td>married</td>\n",
       "      <td>tertiary</td>\n",
       "      <td>no</td>\n",
       "      <td>2143</td>\n",
       "      <td>yes</td>\n",
       "      <td>no</td>\n",
       "      <td>unknown</td>\n",
       "      <td>5</td>\n",
       "      <td>...</td>\n",
       "      <td>261</td>\n",
       "      <td>1</td>\n",
       "      <td>-1</td>\n",
       "      <td>0</td>\n",
       "      <td>unknown</td>\n",
       "      <td>no</td>\n",
       "      <td>0.092269</td>\n",
       "      <td>5</td>\n",
       "      <td>5</td>\n",
       "      <td>2.306734</td>\n",
       "    </tr>\n",
       "    <tr>\n",
       "      <th>1</th>\n",
       "      <td>44</td>\n",
       "      <td>technician</td>\n",
       "      <td>single</td>\n",
       "      <td>secondary</td>\n",
       "      <td>no</td>\n",
       "      <td>29</td>\n",
       "      <td>yes</td>\n",
       "      <td>no</td>\n",
       "      <td>unknown</td>\n",
       "      <td>5</td>\n",
       "      <td>...</td>\n",
       "      <td>151</td>\n",
       "      <td>1</td>\n",
       "      <td>-1</td>\n",
       "      <td>0</td>\n",
       "      <td>unknown</td>\n",
       "      <td>no</td>\n",
       "      <td>0.073077</td>\n",
       "      <td>5</td>\n",
       "      <td>5</td>\n",
       "      <td>1.826916</td>\n",
       "    </tr>\n",
       "    <tr>\n",
       "      <th>2</th>\n",
       "      <td>33</td>\n",
       "      <td>entrepreneur</td>\n",
       "      <td>married</td>\n",
       "      <td>secondary</td>\n",
       "      <td>no</td>\n",
       "      <td>2</td>\n",
       "      <td>yes</td>\n",
       "      <td>yes</td>\n",
       "      <td>unknown</td>\n",
       "      <td>5</td>\n",
       "      <td>...</td>\n",
       "      <td>76</td>\n",
       "      <td>1</td>\n",
       "      <td>-1</td>\n",
       "      <td>0</td>\n",
       "      <td>unknown</td>\n",
       "      <td>no</td>\n",
       "      <td>0.072832</td>\n",
       "      <td>1</td>\n",
       "      <td>5</td>\n",
       "      <td>0.364158</td>\n",
       "    </tr>\n",
       "    <tr>\n",
       "      <th>3</th>\n",
       "      <td>47</td>\n",
       "      <td>blue-collar</td>\n",
       "      <td>married</td>\n",
       "      <td>unknown</td>\n",
       "      <td>no</td>\n",
       "      <td>1506</td>\n",
       "      <td>yes</td>\n",
       "      <td>no</td>\n",
       "      <td>unknown</td>\n",
       "      <td>5</td>\n",
       "      <td>...</td>\n",
       "      <td>92</td>\n",
       "      <td>1</td>\n",
       "      <td>-1</td>\n",
       "      <td>0</td>\n",
       "      <td>unknown</td>\n",
       "      <td>no</td>\n",
       "      <td>0.086486</td>\n",
       "      <td>5</td>\n",
       "      <td>5</td>\n",
       "      <td>2.162153</td>\n",
       "    </tr>\n",
       "    <tr>\n",
       "      <th>4</th>\n",
       "      <td>33</td>\n",
       "      <td>unknown</td>\n",
       "      <td>single</td>\n",
       "      <td>unknown</td>\n",
       "      <td>no</td>\n",
       "      <td>1</td>\n",
       "      <td>no</td>\n",
       "      <td>no</td>\n",
       "      <td>unknown</td>\n",
       "      <td>5</td>\n",
       "      <td>...</td>\n",
       "      <td>198</td>\n",
       "      <td>1</td>\n",
       "      <td>-1</td>\n",
       "      <td>0</td>\n",
       "      <td>unknown</td>\n",
       "      <td>no</td>\n",
       "      <td>0.072822</td>\n",
       "      <td>5</td>\n",
       "      <td>1</td>\n",
       "      <td>0.364112</td>\n",
       "    </tr>\n",
       "  </tbody>\n",
       "</table>\n",
       "<p>5 rows × 21 columns</p>\n",
       "</div>"
      ],
      "text/plain": [
       "   age           job  marital  education default  balance housing loan  \\\n",
       "0   58    management  married   tertiary      no     2143     yes   no   \n",
       "1   44    technician   single  secondary      no       29     yes   no   \n",
       "2   33  entrepreneur  married  secondary      no        2     yes  yes   \n",
       "3   47   blue-collar  married    unknown      no     1506     yes   no   \n",
       "4   33       unknown   single    unknown      no        1      no   no   \n",
       "\n",
       "   contact  day  ... duration  campaign  pdays  previous  poutcome   y  \\\n",
       "0  unknown    5  ...      261         1     -1         0   unknown  no   \n",
       "1  unknown    5  ...      151         1     -1         0   unknown  no   \n",
       "2  unknown    5  ...       76         1     -1         0   unknown  no   \n",
       "3  unknown    5  ...       92         1     -1         0   unknown  no   \n",
       "4  unknown    5  ...      198         1     -1         0   unknown  no   \n",
       "\n",
       "  balance_norm  loanTran  houseTran  assetIndex  \n",
       "0     0.092269         5          5    2.306734  \n",
       "1     0.073077         5          5    1.826916  \n",
       "2     0.072832         1          5    0.364158  \n",
       "3     0.086486         5          5    2.162153  \n",
       "4     0.072822         5          1    0.364112  \n",
       "\n",
       "[5 rows x 21 columns]"
      ]
     },
     "execution_count": 19,
     "metadata": {},
     "output_type": "execute_result"
    }
   ],
   "source": [
    "# We can now create a new variable called AssetIndex which can be defined as the product of 'loanTran', 'houseTran', and 'balance_norm'. This is a composite\n",
    "# index representing the combined effect of all the three variables\n",
    "bankData['assetIndex']=bankData['balance_norm']*bankData['loanTran']*bankData['houseTran']\n",
    "bankData.head()"
   ]
  },
  {
   "cell_type": "code",
   "execution_count": 20,
   "metadata": {},
   "outputs": [
    {
     "data": {
      "text/plain": [
       "array([0.37668646, 0.56920367, 1.9027249 ])"
      ]
     },
     "execution_count": 20,
     "metadata": {},
     "output_type": "execute_result"
    }
   ],
   "source": [
    "# In what follows, we observe the relationship between the asset index and the propensity of term deposit purchases. For the purpose, we take the quantiles \n",
    "# and then we map the quantiles to the propensity of term deposit purchases. \n",
    "\n",
    "# Finding the quantiles\n",
    "np.quantile(bankData['assetIndex'],[0.25,0.5,0.75])"
   ]
  },
  {
   "cell_type": "code",
   "execution_count": 21,
   "metadata": {},
   "outputs": [],
   "source": [
    "# We establish the asset Class by looking at the value of the assetIndex\n",
    "\n",
    "# Firstly, we polarise the column with 'Quant1'\n",
    "bankData['assetClass']='Quant1'\n",
    "# Then we set the remaining quantiles\n",
    "bankData.loc[(bankData['assetIndex']>0.38) & (bankData['assetIndex']<0.57),'assetClass']='Quant2'\n",
    "bankData.loc[(bankData['assetIndex']>0.57) & (bankData['assetIndex']<1.90),'assetClass']='Quant3'\n",
    "bankData.loc[bankData['assetIndex']>1.90,'assetClass']='Quant4'"
   ]
  },
  {
   "cell_type": "code",
   "execution_count": 22,
   "metadata": {},
   "outputs": [
    {
     "data": {
      "text/html": [
       "<div>\n",
       "<style scoped>\n",
       "    .dataframe tbody tr th:only-of-type {\n",
       "        vertical-align: middle;\n",
       "    }\n",
       "\n",
       "    .dataframe tbody tr th {\n",
       "        vertical-align: top;\n",
       "    }\n",
       "\n",
       "    .dataframe thead th {\n",
       "        text-align: right;\n",
       "    }\n",
       "</style>\n",
       "<table border=\"1\" class=\"dataframe\">\n",
       "  <thead>\n",
       "    <tr style=\"text-align: right;\">\n",
       "      <th></th>\n",
       "      <th>age</th>\n",
       "      <th>job</th>\n",
       "      <th>marital</th>\n",
       "      <th>education</th>\n",
       "      <th>default</th>\n",
       "      <th>balance</th>\n",
       "      <th>housing</th>\n",
       "      <th>loan</th>\n",
       "      <th>contact</th>\n",
       "      <th>day</th>\n",
       "      <th>...</th>\n",
       "      <th>campaign</th>\n",
       "      <th>pdays</th>\n",
       "      <th>previous</th>\n",
       "      <th>poutcome</th>\n",
       "      <th>y</th>\n",
       "      <th>balance_norm</th>\n",
       "      <th>loanTran</th>\n",
       "      <th>houseTran</th>\n",
       "      <th>assetIndex</th>\n",
       "      <th>assetClass</th>\n",
       "    </tr>\n",
       "  </thead>\n",
       "  <tbody>\n",
       "    <tr>\n",
       "      <th>0</th>\n",
       "      <td>58</td>\n",
       "      <td>management</td>\n",
       "      <td>married</td>\n",
       "      <td>tertiary</td>\n",
       "      <td>no</td>\n",
       "      <td>2143</td>\n",
       "      <td>yes</td>\n",
       "      <td>no</td>\n",
       "      <td>unknown</td>\n",
       "      <td>5</td>\n",
       "      <td>...</td>\n",
       "      <td>1</td>\n",
       "      <td>-1</td>\n",
       "      <td>0</td>\n",
       "      <td>unknown</td>\n",
       "      <td>no</td>\n",
       "      <td>0.092269</td>\n",
       "      <td>5</td>\n",
       "      <td>5</td>\n",
       "      <td>2.306734</td>\n",
       "      <td>Quant4</td>\n",
       "    </tr>\n",
       "    <tr>\n",
       "      <th>1</th>\n",
       "      <td>44</td>\n",
       "      <td>technician</td>\n",
       "      <td>single</td>\n",
       "      <td>secondary</td>\n",
       "      <td>no</td>\n",
       "      <td>29</td>\n",
       "      <td>yes</td>\n",
       "      <td>no</td>\n",
       "      <td>unknown</td>\n",
       "      <td>5</td>\n",
       "      <td>...</td>\n",
       "      <td>1</td>\n",
       "      <td>-1</td>\n",
       "      <td>0</td>\n",
       "      <td>unknown</td>\n",
       "      <td>no</td>\n",
       "      <td>0.073077</td>\n",
       "      <td>5</td>\n",
       "      <td>5</td>\n",
       "      <td>1.826916</td>\n",
       "      <td>Quant3</td>\n",
       "    </tr>\n",
       "    <tr>\n",
       "      <th>2</th>\n",
       "      <td>33</td>\n",
       "      <td>entrepreneur</td>\n",
       "      <td>married</td>\n",
       "      <td>secondary</td>\n",
       "      <td>no</td>\n",
       "      <td>2</td>\n",
       "      <td>yes</td>\n",
       "      <td>yes</td>\n",
       "      <td>unknown</td>\n",
       "      <td>5</td>\n",
       "      <td>...</td>\n",
       "      <td>1</td>\n",
       "      <td>-1</td>\n",
       "      <td>0</td>\n",
       "      <td>unknown</td>\n",
       "      <td>no</td>\n",
       "      <td>0.072832</td>\n",
       "      <td>1</td>\n",
       "      <td>5</td>\n",
       "      <td>0.364158</td>\n",
       "      <td>Quant1</td>\n",
       "    </tr>\n",
       "    <tr>\n",
       "      <th>3</th>\n",
       "      <td>47</td>\n",
       "      <td>blue-collar</td>\n",
       "      <td>married</td>\n",
       "      <td>unknown</td>\n",
       "      <td>no</td>\n",
       "      <td>1506</td>\n",
       "      <td>yes</td>\n",
       "      <td>no</td>\n",
       "      <td>unknown</td>\n",
       "      <td>5</td>\n",
       "      <td>...</td>\n",
       "      <td>1</td>\n",
       "      <td>-1</td>\n",
       "      <td>0</td>\n",
       "      <td>unknown</td>\n",
       "      <td>no</td>\n",
       "      <td>0.086486</td>\n",
       "      <td>5</td>\n",
       "      <td>5</td>\n",
       "      <td>2.162153</td>\n",
       "      <td>Quant4</td>\n",
       "    </tr>\n",
       "    <tr>\n",
       "      <th>4</th>\n",
       "      <td>33</td>\n",
       "      <td>unknown</td>\n",
       "      <td>single</td>\n",
       "      <td>unknown</td>\n",
       "      <td>no</td>\n",
       "      <td>1</td>\n",
       "      <td>no</td>\n",
       "      <td>no</td>\n",
       "      <td>unknown</td>\n",
       "      <td>5</td>\n",
       "      <td>...</td>\n",
       "      <td>1</td>\n",
       "      <td>-1</td>\n",
       "      <td>0</td>\n",
       "      <td>unknown</td>\n",
       "      <td>no</td>\n",
       "      <td>0.072822</td>\n",
       "      <td>5</td>\n",
       "      <td>1</td>\n",
       "      <td>0.364112</td>\n",
       "      <td>Quant1</td>\n",
       "    </tr>\n",
       "  </tbody>\n",
       "</table>\n",
       "<p>5 rows × 22 columns</p>\n",
       "</div>"
      ],
      "text/plain": [
       "   age           job  marital  education default  balance housing loan  \\\n",
       "0   58    management  married   tertiary      no     2143     yes   no   \n",
       "1   44    technician   single  secondary      no       29     yes   no   \n",
       "2   33  entrepreneur  married  secondary      no        2     yes  yes   \n",
       "3   47   blue-collar  married    unknown      no     1506     yes   no   \n",
       "4   33       unknown   single    unknown      no        1      no   no   \n",
       "\n",
       "   contact  day  ... campaign  pdays  previous  poutcome   y balance_norm  \\\n",
       "0  unknown    5  ...        1     -1         0   unknown  no     0.092269   \n",
       "1  unknown    5  ...        1     -1         0   unknown  no     0.073077   \n",
       "2  unknown    5  ...        1     -1         0   unknown  no     0.072832   \n",
       "3  unknown    5  ...        1     -1         0   unknown  no     0.086486   \n",
       "4  unknown    5  ...        1     -1         0   unknown  no     0.072822   \n",
       "\n",
       "  loanTran  houseTran  assetIndex  assetClass  \n",
       "0        5          5    2.306734      Quant4  \n",
       "1        5          5    1.826916      Quant3  \n",
       "2        1          5    0.364158      Quant1  \n",
       "3        5          5    2.162153      Quant4  \n",
       "4        5          1    0.364112      Quant1  \n",
       "\n",
       "[5 rows x 22 columns]"
      ]
     },
     "execution_count": 22,
     "metadata": {},
     "output_type": "execute_result"
    }
   ],
   "source": [
    "bankData.head()"
   ]
  },
  {
   "cell_type": "code",
   "execution_count": 23,
   "metadata": {},
   "outputs": [],
   "source": [
    "# We compute the percentages of term deposits for each assetClass\n",
    "assetAggrTot=bankData.groupby(['assetClass'])['y'].agg(aggClassTot='count').reset_index()\n",
    "assetAggrYN=bankData.groupby(['assetClass','y'])['y'].agg(aggClassYN='count').reset_index()\n",
    "assetComb=pd.merge(assetAggrYN,assetAggrTot,left_on='assetClass',right_on='assetClass')"
   ]
  },
  {
   "cell_type": "code",
   "execution_count": 24,
   "metadata": {},
   "outputs": [
    {
     "data": {
      "text/html": [
       "<div>\n",
       "<style scoped>\n",
       "    .dataframe tbody tr th:only-of-type {\n",
       "        vertical-align: middle;\n",
       "    }\n",
       "\n",
       "    .dataframe tbody tr th {\n",
       "        vertical-align: top;\n",
       "    }\n",
       "\n",
       "    .dataframe thead th {\n",
       "        text-align: right;\n",
       "    }\n",
       "</style>\n",
       "<table border=\"1\" class=\"dataframe\">\n",
       "  <thead>\n",
       "    <tr style=\"text-align: right;\">\n",
       "      <th></th>\n",
       "      <th>assetClass</th>\n",
       "      <th>y</th>\n",
       "      <th>aggClassYN</th>\n",
       "      <th>aggClassTot</th>\n",
       "      <th>assetPerc</th>\n",
       "    </tr>\n",
       "  </thead>\n",
       "  <tbody>\n",
       "    <tr>\n",
       "      <th>0</th>\n",
       "      <td>Quant1</td>\n",
       "      <td>no</td>\n",
       "      <td>10921</td>\n",
       "      <td>12212</td>\n",
       "      <td>89.43</td>\n",
       "    </tr>\n",
       "    <tr>\n",
       "      <th>1</th>\n",
       "      <td>Quant1</td>\n",
       "      <td>yes</td>\n",
       "      <td>1291</td>\n",
       "      <td>12212</td>\n",
       "      <td>10.57</td>\n",
       "    </tr>\n",
       "    <tr>\n",
       "      <th>2</th>\n",
       "      <td>Quant2</td>\n",
       "      <td>no</td>\n",
       "      <td>8436</td>\n",
       "      <td>10400</td>\n",
       "      <td>81.12</td>\n",
       "    </tr>\n",
       "    <tr>\n",
       "      <th>3</th>\n",
       "      <td>Quant2</td>\n",
       "      <td>yes</td>\n",
       "      <td>1964</td>\n",
       "      <td>10400</td>\n",
       "      <td>18.88</td>\n",
       "    </tr>\n",
       "    <tr>\n",
       "      <th>4</th>\n",
       "      <td>Quant3</td>\n",
       "      <td>no</td>\n",
       "      <td>10144</td>\n",
       "      <td>11121</td>\n",
       "      <td>91.21</td>\n",
       "    </tr>\n",
       "    <tr>\n",
       "      <th>5</th>\n",
       "      <td>Quant3</td>\n",
       "      <td>yes</td>\n",
       "      <td>977</td>\n",
       "      <td>11121</td>\n",
       "      <td>8.79</td>\n",
       "    </tr>\n",
       "    <tr>\n",
       "      <th>6</th>\n",
       "      <td>Quant4</td>\n",
       "      <td>no</td>\n",
       "      <td>10421</td>\n",
       "      <td>11478</td>\n",
       "      <td>90.79</td>\n",
       "    </tr>\n",
       "    <tr>\n",
       "      <th>7</th>\n",
       "      <td>Quant4</td>\n",
       "      <td>yes</td>\n",
       "      <td>1057</td>\n",
       "      <td>11478</td>\n",
       "      <td>9.21</td>\n",
       "    </tr>\n",
       "  </tbody>\n",
       "</table>\n",
       "</div>"
      ],
      "text/plain": [
       "  assetClass    y  aggClassYN  aggClassTot  assetPerc\n",
       "0     Quant1   no       10921        12212      89.43\n",
       "1     Quant1  yes        1291        12212      10.57\n",
       "2     Quant2   no        8436        10400      81.12\n",
       "3     Quant2  yes        1964        10400      18.88\n",
       "4     Quant3   no       10144        11121      91.21\n",
       "5     Quant3  yes         977        11121       8.79\n",
       "6     Quant4   no       10421        11478      90.79\n",
       "7     Quant4  yes        1057        11478       9.21"
      ]
     },
     "execution_count": 24,
     "metadata": {},
     "output_type": "execute_result"
    }
   ],
   "source": [
    "assetComb['assetPerc']=round((assetComb.aggClassYN/assetComb.aggClassTot)*100,2)\n",
    "assetComb.head(10)"
   ]
  },
  {
   "cell_type": "code",
   "execution_count": 25,
   "metadata": {},
   "outputs": [
    {
     "data": {
      "text/html": [
       "\n",
       "<div id=\"altair-viz-ecbf81b0a0be44afb27e118d7c571a1a\"></div>\n",
       "<script type=\"text/javascript\">\n",
       "  (function(spec, embedOpt){\n",
       "    let outputDiv = document.currentScript.previousElementSibling;\n",
       "    if (outputDiv.id !== \"altair-viz-ecbf81b0a0be44afb27e118d7c571a1a\") {\n",
       "      outputDiv = document.getElementById(\"altair-viz-ecbf81b0a0be44afb27e118d7c571a1a\");\n",
       "    }\n",
       "    const paths = {\n",
       "      \"vega\": \"https://cdn.jsdelivr.net/npm//vega@5?noext\",\n",
       "      \"vega-lib\": \"https://cdn.jsdelivr.net/npm//vega-lib?noext\",\n",
       "      \"vega-lite\": \"https://cdn.jsdelivr.net/npm//vega-lite@4.8.1?noext\",\n",
       "      \"vega-embed\": \"https://cdn.jsdelivr.net/npm//vega-embed@6?noext\",\n",
       "    };\n",
       "\n",
       "    function loadScript(lib) {\n",
       "      return new Promise(function(resolve, reject) {\n",
       "        var s = document.createElement('script');\n",
       "        s.src = paths[lib];\n",
       "        s.async = true;\n",
       "        s.onload = () => resolve(paths[lib]);\n",
       "        s.onerror = () => reject(`Error loading script: ${paths[lib]}`);\n",
       "        document.getElementsByTagName(\"head\")[0].appendChild(s);\n",
       "      });\n",
       "    }\n",
       "\n",
       "    function showError(err) {\n",
       "      outputDiv.innerHTML = `<div class=\"error\" style=\"color:red;\">${err}</div>`;\n",
       "      throw err;\n",
       "    }\n",
       "\n",
       "    function displayChart(vegaEmbed) {\n",
       "      vegaEmbed(outputDiv, spec, embedOpt)\n",
       "        .catch(err => showError(`Javascript Error: ${err.message}<br>This usually means there's a typo in your chart specification. See the javascript console for the full traceback.`));\n",
       "    }\n",
       "\n",
       "    if(typeof define === \"function\" && define.amd) {\n",
       "      requirejs.config({paths});\n",
       "      require([\"vega-embed\"], displayChart, err => showError(`Error loading script: ${err.message}`));\n",
       "    } else if (typeof vegaEmbed === \"function\") {\n",
       "      displayChart(vegaEmbed);\n",
       "    } else {\n",
       "      loadScript(\"vega\")\n",
       "        .then(() => loadScript(\"vega-lite\"))\n",
       "        .then(() => loadScript(\"vega-embed\"))\n",
       "        .catch(showError)\n",
       "        .then(() => displayChart(vegaEmbed));\n",
       "    }\n",
       "  })({\"config\": {\"view\": {\"continuousWidth\": 400, \"continuousHeight\": 300}}, \"data\": {\"name\": \"data-c923eee1597dd06c171840dda1106399\"}, \"facet\": {\"column\": {\"type\": \"nominal\", \"field\": \"y\"}}, \"spec\": {\"mark\": \"bar\", \"encoding\": {\"x\": {\"type\": \"nominal\", \"field\": \"assetClass\"}, \"y\": {\"type\": \"quantitative\", \"field\": \"assetPerc\"}}}, \"$schema\": \"https://vega.github.io/schema/vega-lite/v4.8.1.json\", \"datasets\": {\"data-c923eee1597dd06c171840dda1106399\": [{\"assetClass\": \"Quant1\", \"y\": \"no\", \"aggClassYN\": 10921, \"aggClassTot\": 12212, \"assetPerc\": 89.43}, {\"assetClass\": \"Quant1\", \"y\": \"yes\", \"aggClassYN\": 1291, \"aggClassTot\": 12212, \"assetPerc\": 10.57}, {\"assetClass\": \"Quant2\", \"y\": \"no\", \"aggClassYN\": 8436, \"aggClassTot\": 10400, \"assetPerc\": 81.12}, {\"assetClass\": \"Quant2\", \"y\": \"yes\", \"aggClassYN\": 1964, \"aggClassTot\": 10400, \"assetPerc\": 18.88}, {\"assetClass\": \"Quant3\", \"y\": \"no\", \"aggClassYN\": 10144, \"aggClassTot\": 11121, \"assetPerc\": 91.21}, {\"assetClass\": \"Quant3\", \"y\": \"yes\", \"aggClassYN\": 977, \"aggClassTot\": 11121, \"assetPerc\": 8.79}, {\"assetClass\": \"Quant4\", \"y\": \"no\", \"aggClassYN\": 10421, \"aggClassTot\": 11478, \"assetPerc\": 90.79}, {\"assetClass\": \"Quant4\", \"y\": \"yes\", \"aggClassYN\": 1057, \"aggClassTot\": 11478, \"assetPerc\": 9.21}]}}, {\"mode\": \"vega-lite\"});\n",
       "</script>"
      ],
      "text/plain": [
       "alt.FacetChart(...)"
      ]
     },
     "execution_count": 25,
     "metadata": {},
     "output_type": "execute_result"
    }
   ],
   "source": [
    "# Visualising the relationships with Altair --- OJO: when we see a 'saturation' in the Plot, we cannot do correct considerations\n",
    "alt.Chart(assetComb).mark_bar().encode(x='assetClass', y='assetPerc').facet(column='y')\n",
    "\n",
    "# From the plot, we can conclude that the customers in the Second Quartile have the highest propensity to buy term deposits!!!"
   ]
  },
  {
   "cell_type": "markdown",
   "metadata": {},
   "source": [
    "### Type II FE"
   ]
  },
  {
   "cell_type": "markdown",
   "metadata": {},
   "source": [
    "The first approach when doing Type II FE is to look at the correlation matrix and its visualisation. Correlation is a measure that indicates how to variables fluctuate together. Any correlation value of 1, or near 1, indicates that those variables are highly correlated. Highly correlated variables can sometimes be damaging for the veracity of models and, in many circumstances, we make the decision to eliminate such variables or to combine them to form composite or interactive models. "
   ]
  },
  {
   "cell_type": "code",
   "execution_count": 26,
   "metadata": {},
   "outputs": [],
   "source": [
    "from pandas import set_option\n",
    "\n",
    "bankNumeric=bankData[['age','balance','day','duration','campaign','pdays','previous']]"
   ]
  },
  {
   "cell_type": "code",
   "execution_count": 27,
   "metadata": {},
   "outputs": [
    {
     "data": {
      "text/html": [
       "<div>\n",
       "<style scoped>\n",
       "    .dataframe tbody tr th:only-of-type {\n",
       "        vertical-align: middle;\n",
       "    }\n",
       "\n",
       "    .dataframe tbody tr th {\n",
       "        vertical-align: top;\n",
       "    }\n",
       "\n",
       "    .dataframe thead th {\n",
       "        text-align: right;\n",
       "    }\n",
       "</style>\n",
       "<table border=\"1\" class=\"dataframe\">\n",
       "  <thead>\n",
       "    <tr style=\"text-align: right;\">\n",
       "      <th></th>\n",
       "      <th>age</th>\n",
       "      <th>balance</th>\n",
       "      <th>day</th>\n",
       "      <th>duration</th>\n",
       "      <th>campaign</th>\n",
       "      <th>pdays</th>\n",
       "      <th>previous</th>\n",
       "    </tr>\n",
       "  </thead>\n",
       "  <tbody>\n",
       "    <tr>\n",
       "      <th>age</th>\n",
       "      <td>1.000</td>\n",
       "      <td>0.098</td>\n",
       "      <td>-0.009</td>\n",
       "      <td>-0.005</td>\n",
       "      <td>0.005</td>\n",
       "      <td>-0.024</td>\n",
       "      <td>0.001</td>\n",
       "    </tr>\n",
       "    <tr>\n",
       "      <th>balance</th>\n",
       "      <td>0.098</td>\n",
       "      <td>1.000</td>\n",
       "      <td>0.005</td>\n",
       "      <td>0.022</td>\n",
       "      <td>-0.015</td>\n",
       "      <td>0.003</td>\n",
       "      <td>0.017</td>\n",
       "    </tr>\n",
       "    <tr>\n",
       "      <th>day</th>\n",
       "      <td>-0.009</td>\n",
       "      <td>0.005</td>\n",
       "      <td>1.000</td>\n",
       "      <td>-0.030</td>\n",
       "      <td>0.162</td>\n",
       "      <td>-0.093</td>\n",
       "      <td>-0.052</td>\n",
       "    </tr>\n",
       "    <tr>\n",
       "      <th>duration</th>\n",
       "      <td>-0.005</td>\n",
       "      <td>0.022</td>\n",
       "      <td>-0.030</td>\n",
       "      <td>1.000</td>\n",
       "      <td>-0.085</td>\n",
       "      <td>-0.002</td>\n",
       "      <td>0.001</td>\n",
       "    </tr>\n",
       "    <tr>\n",
       "      <th>campaign</th>\n",
       "      <td>0.005</td>\n",
       "      <td>-0.015</td>\n",
       "      <td>0.162</td>\n",
       "      <td>-0.085</td>\n",
       "      <td>1.000</td>\n",
       "      <td>-0.089</td>\n",
       "      <td>-0.033</td>\n",
       "    </tr>\n",
       "    <tr>\n",
       "      <th>pdays</th>\n",
       "      <td>-0.024</td>\n",
       "      <td>0.003</td>\n",
       "      <td>-0.093</td>\n",
       "      <td>-0.002</td>\n",
       "      <td>-0.089</td>\n",
       "      <td>1.000</td>\n",
       "      <td>0.455</td>\n",
       "    </tr>\n",
       "    <tr>\n",
       "      <th>previous</th>\n",
       "      <td>0.001</td>\n",
       "      <td>0.017</td>\n",
       "      <td>-0.052</td>\n",
       "      <td>0.001</td>\n",
       "      <td>-0.033</td>\n",
       "      <td>0.455</td>\n",
       "      <td>1.000</td>\n",
       "    </tr>\n",
       "  </tbody>\n",
       "</table>\n",
       "</div>"
      ],
      "text/plain": [
       "            age  balance    day  duration  campaign  pdays  previous\n",
       "age       1.000    0.098 -0.009    -0.005     0.005 -0.024     0.001\n",
       "balance   0.098    1.000  0.005     0.022    -0.015  0.003     0.017\n",
       "day      -0.009    0.005  1.000    -0.030     0.162 -0.093    -0.052\n",
       "duration -0.005    0.022 -0.030     1.000    -0.085 -0.002     0.001\n",
       "campaign  0.005   -0.015  0.162    -0.085     1.000 -0.089    -0.033\n",
       "pdays    -0.024    0.003 -0.093    -0.002    -0.089  1.000     0.455\n",
       "previous  0.001    0.017 -0.052     0.001    -0.033  0.455     1.000"
      ]
     },
     "execution_count": 27,
     "metadata": {},
     "output_type": "execute_result"
    }
   ],
   "source": [
    "# Correlation DataSet created using the Pearson correlation coefficient \n",
    "set_option('precision',3)\n",
    "bankCorr=bankNumeric.corr(method='pearson')\n",
    "bankCorr"
   ]
  },
  {
   "cell_type": "code",
   "execution_count": 28,
   "metadata": {},
   "outputs": [
    {
     "data": {
      "image/png": "[encoded data removed]",
      "text/plain": [
       "<Figure size 432x288 with 2 Axes>"
      ]
     },
     "metadata": {
      "needs_background": "light"
     },
     "output_type": "display_data"
    }
   ],
   "source": [
    "# In what follows, we plot the Correlation DataSet\n",
    "corFig=plt.figure()\n",
    "figAxis=corFig.add_subplot(111)\n",
    "corAx=figAxis.matshow(bankCorr,vmin=-1,vmax=1)\n",
    "corFig.colorbar(corAx)\n",
    "plt.show()\n",
    "\n",
    "# From the plot, we can conclude that there aren't many variables that are highly correlated!"
   ]
  },
  {
   "cell_type": "markdown",
   "metadata": {},
   "source": [
    "#### SKEWNESS OF DATA"
   ]
  },
  {
   "cell_type": "markdown",
   "metadata": {},
   "source": [
    "Skewed data means data that is shifted in one direction or the other. Skewness can cause ML models to underperform. Many ML models assume normally distributed data or data structures to follow the Gaussin structure. Any deviation from the assumed Gaussian structure can affect model performance. \n",
    "\n",
    "Type II FE tries to correct the skewness through normalisation of the data."
   ]
  },
  {
   "cell_type": "code",
   "execution_count": 29,
   "metadata": {},
   "outputs": [
    {
     "data": {
      "text/plain": [
       "age          0.685\n",
       "balance      8.360\n",
       "day          0.093\n",
       "duration     3.144\n",
       "campaign     4.899\n",
       "pdays        2.616\n",
       "previous    41.846\n",
       "dtype: float64"
      ]
     },
     "execution_count": 29,
     "metadata": {},
     "output_type": "execute_result"
    }
   ],
   "source": [
    "# The .skew() method returns the skewness index for the features. Any value close to 0 indicates a low degree of skewness. Positive values indicates right skew\n",
    "# and negative values a left skew. Variables showing high values of right skew and left skew are candidates for Type II FE.\n",
    "\n",
    "bankNumeric.skew()"
   ]
  },
  {
   "cell_type": "code",
   "execution_count": 30,
   "metadata": {},
   "outputs": [
    {
     "data": {
      "image/png": "[encoded data removed]",
      "text/plain": [
       "<Figure size 432x288 with 4 Axes>"
      ]
     },
     "metadata": {
      "needs_background": "light"
     },
     "output_type": "display_data"
    }
   ],
   "source": [
    "# Histograms\n",
    "fig,axs=plt.subplots(2,2)\n",
    "\n",
    "axs[0,0].hist(bankNumeric['age'])\n",
    "axs[0,0].set_title('Distribution of age')\n",
    "\n",
    "axs[0,1].hist(bankNumeric['pdays'])\n",
    "axs[0,1].set_title('Distribution of pdays')\n",
    "\n",
    "axs[1,0].hist(bankNumeric['duration'])\n",
    "axs[1,0].set_title('Distribution of duration')\n",
    "\n",
    "axs[1,1].hist(bankNumeric['balance'])\n",
    "axs[1,1].set_title('Distribution of balance')\n",
    "\n",
    "# Ensure plots do not overlap\n",
    "plt.tight_layout()"
   ]
  },
  {
   "cell_type": "code",
   "execution_count": 31,
   "metadata": {},
   "outputs": [
    {
     "data": {
      "image/png": "[encoded data removed]",
      "text/plain": [
       "<Figure size 432x288 with 1 Axes>"
      ]
     },
     "metadata": {
      "needs_background": "light"
     },
     "output_type": "display_data"
    }
   ],
   "source": [
    "# Density plots: DPs help in visualising the distribution of data. A density plot can be created using the - kind='density'- parameter as follows\n",
    "bankNumeric['age'].plot(kind='density',subplots=False,layout=(1,1))\n",
    "plt.title('Age Distribution')\n",
    "plt.xlabel('Age')\n",
    "plt.ylabel('Normalised age distribution')\n",
    "plt.show()\n",
    "\n",
    "# From the density plot of 'age', we can see that it has a distribution similar to a bell curve."
   ]
  },
  {
   "cell_type": "markdown",
   "metadata": {},
   "source": [
    "### Alternative FE Methods"
   ]
  },
  {
   "cell_type": "markdown",
   "metadata": {},
   "source": [
    "In what follows, we discuss standard scaler and normaliser methods. \n",
    "\n",
    "Standard scaler standardizes data to a mean of zero and standard deviation of 1. The mean is the average of the data and the standard deviation is a measure of the spread of data. Standard scaler is applied columnwise. In other words, STANDARD SCALER COMPUTES THE Z-SCORES OF THE COLUMNS IN THE DATASET: (x-\\mu)/(\\sigma). STANDARDIZING IS MORE USEFUL IN ALGORITHMS THAT ASSUME INPUT VARIABLES TO HAVE A GAUSSIAN STRUCTURE (regressions).\n",
    "\n",
    "The normaliser function normalises the length of data: each value in a row is divided by the normalization of the row vector to normalize the row. NORMALIZATION TECHNIQUES ARE MORE CONGENIAL FOR SPARSE DATASETS (DATASETS WITH A LOT OF ZEROS) WHEN USING ALGORITHMS SUCH AS K-NEAREST NEIGHBOR OR NEURAL NETWORKS."
   ]
  },
  {
   "cell_type": "code",
   "execution_count": 32,
   "metadata": {},
   "outputs": [
    {
     "name": "stdout",
     "output_type": "stream",
     "text": [
      "[[ 1.607  0.256 -1.298 ... -0.569 -0.411 -0.252]\n",
      " [ 0.289 -0.438 -1.298 ... -0.569 -0.411 -0.252]\n",
      " [-0.747 -0.447 -1.298 ... -0.569 -0.411 -0.252]\n",
      " ...\n",
      " [ 2.925  1.43   0.143 ...  0.722  1.436  1.05 ]\n",
      " [ 1.513 -0.228  0.143 ...  0.399 -0.411 -0.252]\n",
      " [-0.371  0.528  0.143 ... -0.247  1.476  4.524]]\n"
     ]
    }
   ],
   "source": [
    "# Standard scaler - standardizes data (0 mean, 1 stdev)\n",
    "from sklearn.preprocessing import StandardScaler\n",
    "from numpy import set_printoptions\n",
    "\n",
    "scaling=StandardScaler().fit(bankNumeric)\n",
    "rescaledNum=scaling.transform(bankNumeric)\n",
    "\n",
    "set_printoptions(precision=3)\n",
    "print(rescaledNum)"
   ]
  },
  {
   "cell_type": "code",
   "execution_count": 33,
   "metadata": {},
   "outputs": [
    {
     "name": "stdout",
     "output_type": "stream",
     "text": [
      "[[ 2.686e-02  9.923e-01  2.316e-03 ...  4.635e-04 -4.626e-04  4.630e-07]\n",
      " [ 2.750e-01  1.812e-01  3.125e-02 ...  6.256e-03 -6.243e-03  6.249e-06]\n",
      " [ 3.974e-01  2.410e-02  6.022e-02 ...  1.205e-02 -1.203e-02  1.204e-05]\n",
      " ...\n",
      " [ 1.235e-02  9.805e-01  2.917e-03 ...  8.580e-04  3.157e-02  5.149e-04]\n",
      " [ 6.775e-02  7.940e-01  2.021e-02 ...  4.756e-03 -1.187e-03  1.189e-06]\n",
      " [ 1.234e-02  9.906e-01  5.669e-03 ...  6.672e-04  6.269e-02  3.668e-03]]\n"
     ]
    }
   ],
   "source": [
    "# Normalising data (each row has length 1, i.e. if we compute the norm of a random row we get 1)\n",
    "from sklearn.preprocessing import Normalizer\n",
    "normalizer=Normalizer().fit(bankNumeric+0.001)\n",
    "normalisedNum=normalizer.transform(bankNumeric+0.001)\n",
    "\n",
    "set_printoptions(precision=3)\n",
    "print(normalisedNum)"
   ]
  },
  {
   "cell_type": "markdown",
   "metadata": {},
   "source": [
    "## Logistic Regression Model for propensity prediction"
   ]
  },
  {
   "cell_type": "markdown",
   "metadata": {},
   "source": [
    "In what follows, we will build a Logistic Regression Model for propensity prediction. This part will be divided in three steps:    \n",
    "- First step: preprocessing of the data\n",
    "- Second step: training process\n",
    "- Third step: prediction, analysis of metrics, and strategies for the improvement of the model. "
   ]
  },
  {
   "cell_type": "code",
   "execution_count": 34,
   "metadata": {},
   "outputs": [
    {
     "data": {
      "text/plain": [
       "(45211, 44)"
      ]
     },
     "execution_count": 34,
     "metadata": {},
     "output_type": "execute_result"
    }
   ],
   "source": [
    "# In doing preprocessing of the data, we will convert the ordinal data into dummy data and we then split the data in training and testing sets\n",
    "from sklearn.linear_model import LogisticRegression\n",
    "from sklearn.model_selection import train_test_split\n",
    "\n",
    "# Convert ordinal data into dummy data: for such a purpose we use pd.get_dummies() -> it is like a one-hot encoding\n",
    "# In bankData_2: 9 ORDINAL VARIABLES, 7 NUMERICAL VARIABLES, 1 TARGET VARIABLE\n",
    "\n",
    "bankCat=pd.get_dummies(bankData_2[['job','marital','education','default','housing','loan','contact','month','poutcome']])\n",
    "bankCat.shape"
   ]
  },
  {
   "cell_type": "code",
   "execution_count": 35,
   "metadata": {},
   "outputs": [
    {
     "data": {
      "text/plain": [
       "(45211, 7)"
      ]
     },
     "execution_count": 35,
     "metadata": {},
     "output_type": "execute_result"
    }
   ],
   "source": [
    "# We define bankNum containing the numerical variables of the DataSet\n",
    "bankNum=bankData_2[['age','balance','day','duration','campaign','pdays','previous']]\n",
    "bankNum.shape"
   ]
  },
  {
   "cell_type": "code",
   "execution_count": 37,
   "metadata": {},
   "outputs": [
    {
     "name": "stdout",
     "output_type": "stream",
     "text": [
      "(45211, 51)\n"
     ]
    }
   ],
   "source": [
    "# Preparing the X variables\n",
    "X=pd.concat([bankCat,bankNum],axis=1)\n",
    "print(X.shape)"
   ]
  },
  {
   "cell_type": "code",
   "execution_count": 38,
   "metadata": {},
   "outputs": [
    {
     "name": "stdout",
     "output_type": "stream",
     "text": [
      "(45211,)\n"
     ]
    }
   ],
   "source": [
    "# Preparing the Y variable\n",
    "Y=bankData['y']\n",
    "print(Y.shape)"
   ]
  },
  {
   "cell_type": "code",
   "execution_count": 39,
   "metadata": {},
   "outputs": [
    {
     "data": {
      "text/html": [
       "<div>\n",
       "<style scoped>\n",
       "    .dataframe tbody tr th:only-of-type {\n",
       "        vertical-align: middle;\n",
       "    }\n",
       "\n",
       "    .dataframe tbody tr th {\n",
       "        vertical-align: top;\n",
       "    }\n",
       "\n",
       "    .dataframe thead th {\n",
       "        text-align: right;\n",
       "    }\n",
       "</style>\n",
       "<table border=\"1\" class=\"dataframe\">\n",
       "  <thead>\n",
       "    <tr style=\"text-align: right;\">\n",
       "      <th></th>\n",
       "      <th>job_admin.</th>\n",
       "      <th>job_blue-collar</th>\n",
       "      <th>job_entrepreneur</th>\n",
       "      <th>job_housemaid</th>\n",
       "      <th>job_management</th>\n",
       "      <th>job_retired</th>\n",
       "      <th>job_self-employed</th>\n",
       "      <th>job_services</th>\n",
       "      <th>job_student</th>\n",
       "      <th>job_technician</th>\n",
       "      <th>...</th>\n",
       "      <th>poutcome_other</th>\n",
       "      <th>poutcome_success</th>\n",
       "      <th>poutcome_unknown</th>\n",
       "      <th>age</th>\n",
       "      <th>balance</th>\n",
       "      <th>day</th>\n",
       "      <th>duration</th>\n",
       "      <th>campaign</th>\n",
       "      <th>pdays</th>\n",
       "      <th>previous</th>\n",
       "    </tr>\n",
       "  </thead>\n",
       "  <tbody>\n",
       "    <tr>\n",
       "      <th>0</th>\n",
       "      <td>0</td>\n",
       "      <td>0</td>\n",
       "      <td>0</td>\n",
       "      <td>0</td>\n",
       "      <td>1</td>\n",
       "      <td>0</td>\n",
       "      <td>0</td>\n",
       "      <td>0</td>\n",
       "      <td>0</td>\n",
       "      <td>0</td>\n",
       "      <td>...</td>\n",
       "      <td>0</td>\n",
       "      <td>0</td>\n",
       "      <td>1</td>\n",
       "      <td>58</td>\n",
       "      <td>2143</td>\n",
       "      <td>5</td>\n",
       "      <td>261</td>\n",
       "      <td>1</td>\n",
       "      <td>-1</td>\n",
       "      <td>0</td>\n",
       "    </tr>\n",
       "    <tr>\n",
       "      <th>1</th>\n",
       "      <td>0</td>\n",
       "      <td>0</td>\n",
       "      <td>0</td>\n",
       "      <td>0</td>\n",
       "      <td>0</td>\n",
       "      <td>0</td>\n",
       "      <td>0</td>\n",
       "      <td>0</td>\n",
       "      <td>0</td>\n",
       "      <td>1</td>\n",
       "      <td>...</td>\n",
       "      <td>0</td>\n",
       "      <td>0</td>\n",
       "      <td>1</td>\n",
       "      <td>44</td>\n",
       "      <td>29</td>\n",
       "      <td>5</td>\n",
       "      <td>151</td>\n",
       "      <td>1</td>\n",
       "      <td>-1</td>\n",
       "      <td>0</td>\n",
       "    </tr>\n",
       "    <tr>\n",
       "      <th>2</th>\n",
       "      <td>0</td>\n",
       "      <td>0</td>\n",
       "      <td>1</td>\n",
       "      <td>0</td>\n",
       "      <td>0</td>\n",
       "      <td>0</td>\n",
       "      <td>0</td>\n",
       "      <td>0</td>\n",
       "      <td>0</td>\n",
       "      <td>0</td>\n",
       "      <td>...</td>\n",
       "      <td>0</td>\n",
       "      <td>0</td>\n",
       "      <td>1</td>\n",
       "      <td>33</td>\n",
       "      <td>2</td>\n",
       "      <td>5</td>\n",
       "      <td>76</td>\n",
       "      <td>1</td>\n",
       "      <td>-1</td>\n",
       "      <td>0</td>\n",
       "    </tr>\n",
       "    <tr>\n",
       "      <th>3</th>\n",
       "      <td>0</td>\n",
       "      <td>1</td>\n",
       "      <td>0</td>\n",
       "      <td>0</td>\n",
       "      <td>0</td>\n",
       "      <td>0</td>\n",
       "      <td>0</td>\n",
       "      <td>0</td>\n",
       "      <td>0</td>\n",
       "      <td>0</td>\n",
       "      <td>...</td>\n",
       "      <td>0</td>\n",
       "      <td>0</td>\n",
       "      <td>1</td>\n",
       "      <td>47</td>\n",
       "      <td>1506</td>\n",
       "      <td>5</td>\n",
       "      <td>92</td>\n",
       "      <td>1</td>\n",
       "      <td>-1</td>\n",
       "      <td>0</td>\n",
       "    </tr>\n",
       "    <tr>\n",
       "      <th>4</th>\n",
       "      <td>0</td>\n",
       "      <td>0</td>\n",
       "      <td>0</td>\n",
       "      <td>0</td>\n",
       "      <td>0</td>\n",
       "      <td>0</td>\n",
       "      <td>0</td>\n",
       "      <td>0</td>\n",
       "      <td>0</td>\n",
       "      <td>0</td>\n",
       "      <td>...</td>\n",
       "      <td>0</td>\n",
       "      <td>0</td>\n",
       "      <td>1</td>\n",
       "      <td>33</td>\n",
       "      <td>1</td>\n",
       "      <td>5</td>\n",
       "      <td>198</td>\n",
       "      <td>1</td>\n",
       "      <td>-1</td>\n",
       "      <td>0</td>\n",
       "    </tr>\n",
       "  </tbody>\n",
       "</table>\n",
       "<p>5 rows × 51 columns</p>\n",
       "</div>"
      ],
      "text/plain": [
       "   job_admin.  job_blue-collar  job_entrepreneur  job_housemaid  \\\n",
       "0           0                0                 0              0   \n",
       "1           0                0                 0              0   \n",
       "2           0                0                 1              0   \n",
       "3           0                1                 0              0   \n",
       "4           0                0                 0              0   \n",
       "\n",
       "   job_management  job_retired  job_self-employed  job_services  job_student  \\\n",
       "0               1            0                  0             0            0   \n",
       "1               0            0                  0             0            0   \n",
       "2               0            0                  0             0            0   \n",
       "3               0            0                  0             0            0   \n",
       "4               0            0                  0             0            0   \n",
       "\n",
       "   job_technician  ...  poutcome_other  poutcome_success  poutcome_unknown  \\\n",
       "0               0  ...               0                 0                 1   \n",
       "1               1  ...               0                 0                 1   \n",
       "2               0  ...               0                 0                 1   \n",
       "3               0  ...               0                 0                 1   \n",
       "4               0  ...               0                 0                 1   \n",
       "\n",
       "   age  balance  day  duration  campaign  pdays  previous  \n",
       "0   58     2143    5       261         1     -1         0  \n",
       "1   44       29    5       151         1     -1         0  \n",
       "2   33        2    5        76         1     -1         0  \n",
       "3   47     1506    5        92         1     -1         0  \n",
       "4   33        1    5       198         1     -1         0  \n",
       "\n",
       "[5 rows x 51 columns]"
      ]
     },
     "execution_count": 39,
     "metadata": {},
     "output_type": "execute_result"
    }
   ],
   "source": [
    "X.head()"
   ]
  },
  {
   "cell_type": "code",
   "execution_count": 40,
   "metadata": {},
   "outputs": [],
   "source": [
    "# Splitting the data into training and testing sets\n",
    "X_train, X_test, y_train, y_test = train_test_split(X,Y,test_size=0.3,random_state=123)\n",
    "\n",
    "# Now the data is all prepared for the modelling task. For now on, we begin with modelling.\n",
    "bankModel=LogisticRegression()"
   ]
  },
  {
   "cell_type": "code",
   "execution_count": 41,
   "metadata": {},
   "outputs": [
    {
     "name": "stderr",
     "output_type": "stream",
     "text": [
      "D:\\Anaconda\\lib\\site-packages\\sklearn\\linear_model\\_logistic.py:762: ConvergenceWarning: lbfgs failed to converge (status=1):\n",
      "STOP: TOTAL NO. of ITERATIONS REACHED LIMIT.\n",
      "\n",
      "Increase the number of iterations (max_iter) or scale the data as shown in:\n",
      "    https://scikit-learn.org/stable/modules/preprocessing.html\n",
      "Please also refer to the documentation for alternative solver options:\n",
      "    https://scikit-learn.org/stable/modules/linear_model.html#logistic-regression\n",
      "  n_iter_i = _check_optimize_result(\n"
     ]
    },
    {
     "data": {
      "text/plain": [
       "LogisticRegression()"
      ]
     },
     "execution_count": 41,
     "metadata": {},
     "output_type": "execute_result"
    }
   ],
   "source": [
    "bankModel.fit(X_train,y_train)"
   ]
  },
  {
   "cell_type": "code",
   "execution_count": 42,
   "metadata": {},
   "outputs": [
    {
     "name": "stdout",
     "output_type": "stream",
     "text": [
      "Accuracy of Logistic regression modelprediction on test set: 0.890445\n"
     ]
    }
   ],
   "source": [
    "pred=bankModel.predict(X_test)\n",
    "print('Accuracy of Logistic regression model'\\\n",
    "     'prediction on test set: {:2f}'\\\n",
    "     .format(bankModel.score(X_test,y_test)))"
   ]
  },
  {
   "cell_type": "code",
   "execution_count": 43,
   "metadata": {},
   "outputs": [
    {
     "name": "stdout",
     "output_type": "stream",
     "text": [
      "[[11754   244]\n",
      " [ 1242   324]]\n"
     ]
    }
   ],
   "source": [
    "# Confusion matrix for the model\n",
    "from sklearn.metrics import confusion_matrix\n",
    "confusionMatrix = confusion_matrix(y_test, pred)\n",
    "print(confusionMatrix)"
   ]
  },
  {
   "cell_type": "code",
   "execution_count": null,
   "metadata": {},
   "outputs": [],
   "source": []
  }
 ],
 "metadata": {
  "kernelspec": {
   "display_name": "Python 3",
   "language": "python",
   "name": "python3"
  },
  "language_info": {
   "codemirror_mode": {
    "name": "ipython",
    "version": 3
   },
   "file_extension": ".py",
   "mimetype": "text/x-python",
   "name": "python",
   "nbconvert_exporter": "python",
   "pygments_lexer": "ipython3",
   "version": "3.8.3"
  }
 },
 "nbformat": 4,
 "nbformat_minor": 4
}
